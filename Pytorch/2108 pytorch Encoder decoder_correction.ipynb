{
 "cells": [
  {
   "cell_type": "code",
   "execution_count": 49,
   "id": "collected-present",
   "metadata": {},
   "outputs": [],
   "source": [
    "import torch\n",
    "import torch.nn as nn\n",
    "\n",
    "import numpy as np\n",
    "import pandas as pd\n",
    "import matplotlib.pyplot as plt"
   ]
  },
  {
   "cell_type": "code",
   "execution_count": 50,
   "id": "touched-pierre",
   "metadata": {},
   "outputs": [],
   "source": [
    "def MAPE(y_true, y_pred): \n",
    "    return np.mean(np.abs((y_true - y_pred) / y_true)) * 100"
   ]
  },
  {
   "cell_type": "code",
   "execution_count": 51,
   "id": "exact-wilderness",
   "metadata": {},
   "outputs": [
    {
     "data": {
      "text/html": [
       "<div>\n",
       "<style scoped>\n",
       "    .dataframe tbody tr th:only-of-type {\n",
       "        vertical-align: middle;\n",
       "    }\n",
       "\n",
       "    .dataframe tbody tr th {\n",
       "        vertical-align: top;\n",
       "    }\n",
       "\n",
       "    .dataframe thead th {\n",
       "        text-align: right;\n",
       "    }\n",
       "</style>\n",
       "<table border=\"1\" class=\"dataframe\">\n",
       "  <thead>\n",
       "    <tr style=\"text-align: right;\">\n",
       "      <th></th>\n",
       "      <th>MeasuredDate</th>\n",
       "      <th>CellNo</th>\n",
       "      <th>Resistance</th>\n",
       "      <th>Volt</th>\n",
       "      <th>Temp</th>\n",
       "    </tr>\n",
       "  </thead>\n",
       "  <tbody>\n",
       "    <tr>\n",
       "      <th>0</th>\n",
       "      <td>2011.3.7 6:27</td>\n",
       "      <td>1</td>\n",
       "      <td>0.259</td>\n",
       "      <td>2.23</td>\n",
       "      <td>-20</td>\n",
       "    </tr>\n",
       "    <tr>\n",
       "      <th>1</th>\n",
       "      <td>2011.3.7 18:29</td>\n",
       "      <td>1</td>\n",
       "      <td>0.260</td>\n",
       "      <td>2.23</td>\n",
       "      <td>-20</td>\n",
       "    </tr>\n",
       "    <tr>\n",
       "      <th>2</th>\n",
       "      <td>2011.3.8 6:29</td>\n",
       "      <td>1</td>\n",
       "      <td>0.259</td>\n",
       "      <td>2.23</td>\n",
       "      <td>-20</td>\n",
       "    </tr>\n",
       "    <tr>\n",
       "      <th>3</th>\n",
       "      <td>2011.3.8 18:29</td>\n",
       "      <td>1</td>\n",
       "      <td>0.259</td>\n",
       "      <td>2.23</td>\n",
       "      <td>-20</td>\n",
       "    </tr>\n",
       "    <tr>\n",
       "      <th>4</th>\n",
       "      <td>2011.3.9 6:29</td>\n",
       "      <td>1</td>\n",
       "      <td>0.259</td>\n",
       "      <td>2.23</td>\n",
       "      <td>-20</td>\n",
       "    </tr>\n",
       "    <tr>\n",
       "      <th>...</th>\n",
       "      <td>...</td>\n",
       "      <td>...</td>\n",
       "      <td>...</td>\n",
       "      <td>...</td>\n",
       "      <td>...</td>\n",
       "    </tr>\n",
       "    <tr>\n",
       "      <th>254</th>\n",
       "      <td>2011.8.30 5:28</td>\n",
       "      <td>1</td>\n",
       "      <td>0.301</td>\n",
       "      <td>2.23</td>\n",
       "      <td>-20</td>\n",
       "    </tr>\n",
       "    <tr>\n",
       "      <th>255</th>\n",
       "      <td>2011.8.30 17:28</td>\n",
       "      <td>1</td>\n",
       "      <td>0.301</td>\n",
       "      <td>2.23</td>\n",
       "      <td>-20</td>\n",
       "    </tr>\n",
       "    <tr>\n",
       "      <th>256</th>\n",
       "      <td>2011.8.31 5:28</td>\n",
       "      <td>1</td>\n",
       "      <td>0.302</td>\n",
       "      <td>2.23</td>\n",
       "      <td>-20</td>\n",
       "    </tr>\n",
       "    <tr>\n",
       "      <th>257</th>\n",
       "      <td>2011.8.31 16:09</td>\n",
       "      <td>1</td>\n",
       "      <td>0.300</td>\n",
       "      <td>2.23</td>\n",
       "      <td>-20</td>\n",
       "    </tr>\n",
       "    <tr>\n",
       "      <th>258</th>\n",
       "      <td>2011.8.31 16:12</td>\n",
       "      <td>1</td>\n",
       "      <td>0.296</td>\n",
       "      <td>2.23</td>\n",
       "      <td>-20</td>\n",
       "    </tr>\n",
       "  </tbody>\n",
       "</table>\n",
       "<p>259 rows × 5 columns</p>\n",
       "</div>"
      ],
      "text/plain": [
       "        MeasuredDate  CellNo  Resistance  Volt  Temp\n",
       "0      2011.3.7 6:27       1       0.259  2.23   -20\n",
       "1     2011.3.7 18:29       1       0.260  2.23   -20\n",
       "2      2011.3.8 6:29       1       0.259  2.23   -20\n",
       "3     2011.3.8 18:29       1       0.259  2.23   -20\n",
       "4      2011.3.9 6:29       1       0.259  2.23   -20\n",
       "..               ...     ...         ...   ...   ...\n",
       "254   2011.8.30 5:28       1       0.301  2.23   -20\n",
       "255  2011.8.30 17:28       1       0.301  2.23   -20\n",
       "256   2011.8.31 5:28       1       0.302  2.23   -20\n",
       "257  2011.8.31 16:09       1       0.300  2.23   -20\n",
       "258  2011.8.31 16:12       1       0.296  2.23   -20\n",
       "\n",
       "[259 rows x 5 columns]"
      ]
     },
     "execution_count": 51,
     "metadata": {},
     "output_type": "execute_result"
    }
   ],
   "source": [
    "df = pd.read_csv('trainset/J0003_0024_0222_20110307012737_cell_1.csv', encoding='utf8')\n",
    "df"
   ]
  },
  {
   "cell_type": "code",
   "execution_count": 52,
   "id": "behavioral-running",
   "metadata": {},
   "outputs": [
    {
     "data": {
      "text/plain": [
       "0      0.259\n",
       "1      0.260\n",
       "2      0.259\n",
       "3      0.259\n",
       "4      0.259\n",
       "       ...  \n",
       "254    0.301\n",
       "255    0.301\n",
       "256    0.302\n",
       "257    0.300\n",
       "258    0.296\n",
       "Name: Resistance, Length: 259, dtype: float64"
      ]
     },
     "execution_count": 52,
     "metadata": {},
     "output_type": "execute_result"
    }
   ],
   "source": [
    "df = df['Resistance']\n",
    "df"
   ]
  },
  {
   "cell_type": "code",
   "execution_count": 53,
   "id": "welsh-reality",
   "metadata": {},
   "outputs": [],
   "source": [
    "test_data_size = 30\n",
    "train_data = df[:-test_data_size]\n",
    "test_data = df[-test_data_size:]"
   ]
  },
  {
   "cell_type": "code",
   "execution_count": 54,
   "id": "collect-peeing",
   "metadata": {},
   "outputs": [
    {
     "data": {
      "text/html": [
       "<div>\n",
       "<style scoped>\n",
       "    .dataframe tbody tr th:only-of-type {\n",
       "        vertical-align: middle;\n",
       "    }\n",
       "\n",
       "    .dataframe tbody tr th {\n",
       "        vertical-align: top;\n",
       "    }\n",
       "\n",
       "    .dataframe thead th {\n",
       "        text-align: right;\n",
       "    }\n",
       "</style>\n",
       "<table border=\"1\" class=\"dataframe\">\n",
       "  <thead>\n",
       "    <tr style=\"text-align: right;\">\n",
       "      <th></th>\n",
       "      <th>Resistance</th>\n",
       "    </tr>\n",
       "  </thead>\n",
       "  <tbody>\n",
       "    <tr>\n",
       "      <th>0</th>\n",
       "      <td>0.259</td>\n",
       "    </tr>\n",
       "    <tr>\n",
       "      <th>1</th>\n",
       "      <td>0.260</td>\n",
       "    </tr>\n",
       "    <tr>\n",
       "      <th>2</th>\n",
       "      <td>0.259</td>\n",
       "    </tr>\n",
       "    <tr>\n",
       "      <th>3</th>\n",
       "      <td>0.259</td>\n",
       "    </tr>\n",
       "    <tr>\n",
       "      <th>4</th>\n",
       "      <td>0.259</td>\n",
       "    </tr>\n",
       "    <tr>\n",
       "      <th>...</th>\n",
       "      <td>...</td>\n",
       "    </tr>\n",
       "    <tr>\n",
       "      <th>224</th>\n",
       "      <td>0.294</td>\n",
       "    </tr>\n",
       "    <tr>\n",
       "      <th>225</th>\n",
       "      <td>0.294</td>\n",
       "    </tr>\n",
       "    <tr>\n",
       "      <th>226</th>\n",
       "      <td>0.295</td>\n",
       "    </tr>\n",
       "    <tr>\n",
       "      <th>227</th>\n",
       "      <td>0.295</td>\n",
       "    </tr>\n",
       "    <tr>\n",
       "      <th>228</th>\n",
       "      <td>0.295</td>\n",
       "    </tr>\n",
       "  </tbody>\n",
       "</table>\n",
       "<p>229 rows × 1 columns</p>\n",
       "</div>"
      ],
      "text/plain": [
       "     Resistance\n",
       "0         0.259\n",
       "1         0.260\n",
       "2         0.259\n",
       "3         0.259\n",
       "4         0.259\n",
       "..          ...\n",
       "224       0.294\n",
       "225       0.294\n",
       "226       0.295\n",
       "227       0.295\n",
       "228       0.295\n",
       "\n",
       "[229 rows x 1 columns]"
      ]
     },
     "execution_count": 54,
     "metadata": {},
     "output_type": "execute_result"
    }
   ],
   "source": [
    "from sklearn.preprocessing import MinMaxScaler\n",
    "\n",
    "scaler = MinMaxScaler()\n",
    "scale_cols = ['Resistance']\n",
    "train_data = pd.DataFrame(train_data)\n",
    "train_data.columns = scale_cols\n",
    "\n",
    "train_data"
   ]
  },
  {
   "cell_type": "code",
   "execution_count": 55,
   "id": "virgin-singing",
   "metadata": {},
   "outputs": [],
   "source": [
    "train_data_normalized = scaler.fit_transform(train_data[scale_cols])"
   ]
  },
  {
   "cell_type": "code",
   "execution_count": 56,
   "id": "italic-northwest",
   "metadata": {},
   "outputs": [],
   "source": [
    "train_data_normalized = torch.FloatTensor(train_data_normalized).view(-1)"
   ]
  },
  {
   "cell_type": "code",
   "execution_count": 57,
   "id": "satisfied-pipeline",
   "metadata": {},
   "outputs": [],
   "source": [
    "train_window = 20"
   ]
  },
  {
   "cell_type": "code",
   "execution_count": 58,
   "id": "driven-broadway",
   "metadata": {},
   "outputs": [],
   "source": [
    "def create_inout_sequences(input_data, tw):\n",
    "    inout_seq = []\n",
    "    L = len(input_data)\n",
    "    for i in range(L-tw):\n",
    "        train_seq = input_data[i:i+tw]\n",
    "        train_label = input_data[i+tw:i+tw+1]\n",
    "        inout_seq.append((train_seq, train_label))\n",
    "    return inout_seq"
   ]
  },
  {
   "cell_type": "code",
   "execution_count": 59,
   "id": "actual-zimbabwe",
   "metadata": {},
   "outputs": [],
   "source": [
    "train_inout_seq = create_inout_sequences(train_data_normalized, train_window)"
   ]
  },
  {
   "cell_type": "code",
   "execution_count": 60,
   "id": "cross-cheat",
   "metadata": {},
   "outputs": [
    {
     "data": {
      "text/plain": [
       "tensor([0.0270, 0.0541, 0.0270, 0.0270, 0.0270, 0.0270, 0.0541, 0.0541, 0.0811,\n",
       "        0.0541, 0.0541, 0.0541, 0.0811, 0.0541, 0.0541, 0.0000, 0.0000, 0.0000,\n",
       "        0.0270, 0.0811, 0.0541, 0.0541, 0.1081, 0.1081, 0.1081])"
      ]
     },
     "execution_count": 60,
     "metadata": {},
     "output_type": "execute_result"
    }
   ],
   "source": [
    "train_data_normalized[:25]"
   ]
  },
  {
   "cell_type": "code",
   "execution_count": 61,
   "id": "dominant-compression",
   "metadata": {},
   "outputs": [
    {
     "data": {
      "text/plain": [
       "[(tensor([0.0270, 0.0541, 0.0270, 0.0270, 0.0270, 0.0270, 0.0541, 0.0541, 0.0811,\n",
       "          0.0541, 0.0541, 0.0541, 0.0811, 0.0541, 0.0541, 0.0000, 0.0000, 0.0000,\n",
       "          0.0270, 0.0811]),\n",
       "  tensor([0.0541])),\n",
       " (tensor([0.0541, 0.0270, 0.0270, 0.0270, 0.0270, 0.0541, 0.0541, 0.0811, 0.0541,\n",
       "          0.0541, 0.0541, 0.0811, 0.0541, 0.0541, 0.0000, 0.0000, 0.0000, 0.0270,\n",
       "          0.0811, 0.0541]),\n",
       "  tensor([0.0541])),\n",
       " (tensor([0.0270, 0.0270, 0.0270, 0.0270, 0.0541, 0.0541, 0.0811, 0.0541, 0.0541,\n",
       "          0.0541, 0.0811, 0.0541, 0.0541, 0.0000, 0.0000, 0.0000, 0.0270, 0.0811,\n",
       "          0.0541, 0.0541]),\n",
       "  tensor([0.1081])),\n",
       " (tensor([0.0270, 0.0270, 0.0270, 0.0541, 0.0541, 0.0811, 0.0541, 0.0541, 0.0541,\n",
       "          0.0811, 0.0541, 0.0541, 0.0000, 0.0000, 0.0000, 0.0270, 0.0811, 0.0541,\n",
       "          0.0541, 0.1081]),\n",
       "  tensor([0.1081])),\n",
       " (tensor([0.0270, 0.0270, 0.0541, 0.0541, 0.0811, 0.0541, 0.0541, 0.0541, 0.0811,\n",
       "          0.0541, 0.0541, 0.0000, 0.0000, 0.0000, 0.0270, 0.0811, 0.0541, 0.0541,\n",
       "          0.1081, 0.1081]),\n",
       "  tensor([0.1081]))]"
      ]
     },
     "execution_count": 61,
     "metadata": {},
     "output_type": "execute_result"
    }
   ],
   "source": [
    "train_inout_seq[:5]"
   ]
  },
  {
   "cell_type": "code",
   "execution_count": 77,
   "id": "unlikely-webcam",
   "metadata": {},
   "outputs": [],
   "source": [
    "seq_len = train_window\n",
    "n_feature = 1\n",
    "class Encoder(nn.Module):\n",
    "    def __init__(self, seq_len, n_features, embedding_dim=64):\n",
    "        super(Encoder, self).__init__()\n",
    "        self.seq_len, self.n_features = seq_len, n_features\n",
    "        self.embedding_dim, self.hidden_dim = embedding_dim, 2 * embedding_dim\n",
    "        self.rnn1 = nn.LSTM(\n",
    "          input_size=n_features,\n",
    "          hidden_size=self.hidden_dim,\n",
    "          num_layers=1,\n",
    "          batch_first=True\n",
    "        )\n",
    "        self.rnn2 = nn.LSTM(\n",
    "          input_size=self.hidden_dim,\n",
    "          hidden_size=embedding_dim,\n",
    "          num_layers=1,\n",
    "          batch_first=True\n",
    "        )\n",
    "    def forward(self, x):\n",
    "        x = x.reshape((1, self.seq_len, self.n_features))\n",
    "        x, (_, _) = self.rnn1(x)\n",
    "        x, (hidden_n, _) = self.rnn2(x)\n",
    "        return hidden_n.reshape((self.n_features, self.embedding_dim))\n",
    "    \n",
    "class Decoder(nn.Module):\n",
    "    def __init__(self, seq_len, input_dim=64, n_features=1):\n",
    "        super(Decoder, self).__init__()\n",
    "        self.seq_len, self.input_dim = seq_len, input_dim\n",
    "        self.hidden_dim, self.n_features = 2 * input_dim, n_features\n",
    "        self.rnn1 = nn.LSTM(\n",
    "          input_size=input_dim,\n",
    "          hidden_size=input_dim,\n",
    "          num_layers=1,\n",
    "          batch_first=True\n",
    "        )\n",
    "        self.rnn2 = nn.LSTM(\n",
    "          input_size=input_dim,\n",
    "          hidden_size=self.hidden_dim,\n",
    "          num_layers=1,\n",
    "          batch_first=True\n",
    "        )\n",
    "        self.output_layer = nn.Linear(self.hidden_dim, n_features)\n",
    "    def forward(self, x):\n",
    "        x = x.repeat(self.seq_len, self.n_features)\n",
    "        x = x.reshape((self.n_features, self.seq_len, self.input_dim))\n",
    "        x, (hidden_n, cell_n) = self.rnn1(x)\n",
    "        x, (hidden_n, cell_n) = self.rnn2(x)\n",
    "        x = x.reshape((self.seq_len, self.hidden_dim))\n",
    "        return self.output_layer(x)\n",
    "    \n",
    "class RecurrentAutoencoder(nn.Module):\n",
    "    def __init__(self, seq_len, n_features, embedding_dim=64):\n",
    "        super(RecurrentAutoencoder, self).__init__()\n",
    "        self.hidden_layer_size = 128\n",
    "        self.encoder = Encoder(seq_len, n_features, embedding_dim)\n",
    "        self.decoder = Decoder(seq_len, embedding_dim, n_features)\n",
    "        self.hidden_cell = (torch.zeros(1, 1, self.hidden_layer_size),\n",
    "                        torch.zeros(1, 1, self.hidden_layer_size))\n",
    "    def forward(self, x):\n",
    "        x = self.encoder(x)\n",
    "        x = self.decoder(x)\n",
    "        return x"
   ]
  },
  {
   "cell_type": "code",
   "execution_count": 78,
   "id": "turkish-height",
   "metadata": {
    "scrolled": true
   },
   "outputs": [
    {
     "name": "stdout",
     "output_type": "stream",
     "text": [
      "Using cuda device\n",
      "RecurrentAutoencoder(\n",
      "  (encoder): Encoder(\n",
      "    (rnn1): LSTM(1, 128, batch_first=True)\n",
      "    (rnn2): LSTM(128, 64, batch_first=True)\n",
      "  )\n",
      "  (decoder): Decoder(\n",
      "    (rnn1): LSTM(64, 64, batch_first=True)\n",
      "    (rnn2): LSTM(64, 128, batch_first=True)\n",
      "    (output_layer): Linear(in_features=128, out_features=1, bias=True)\n",
      "  )\n",
      ")\n"
     ]
    }
   ],
   "source": [
    "device = 'cuda' if torch.cuda.is_available() else 'cpu'\n",
    "print('Using {} device'.format(device))\n",
    "model = RecurrentAutoencoder(20, 1, 64).to(device)\n",
    "print(model)"
   ]
  },
  {
   "cell_type": "code",
   "execution_count": 86,
   "id": "tamil-season",
   "metadata": {},
   "outputs": [],
   "source": [
    "model = RecurrentAutoencoder(20, 1, 64)\n",
    "loss_function = nn.MSELoss()\n",
    "optimizer = torch.optim.Adam(model.parameters(), lr=0.001)"
   ]
  },
  {
   "cell_type": "code",
   "execution_count": 87,
   "id": "upper-faculty",
   "metadata": {},
   "outputs": [
    {
     "name": "stdout",
     "output_type": "stream",
     "text": [
      "epoch:   1 loss: 0.00000684\n",
      "epoch:  11 loss: 0.00407953\n",
      "epoch:  21 loss: 0.08948204\n",
      "epoch:  31 loss: 0.10721568\n",
      "epoch:  41 loss: 0.10701516\n",
      "epoch:  51 loss: 0.10724900\n",
      "epoch:  61 loss: 0.10800816\n",
      "epoch:  71 loss: 0.10819755\n",
      "epoch:  81 loss: 0.10825402\n",
      "epoch:  91 loss: 0.10827433\n",
      "epoch:  99 loss: 0.1082831770\n"
     ]
    }
   ],
   "source": [
    "epochs = 100\n",
    "\n",
    "for i in range(epochs):\n",
    "    for seq, labels in train_inout_seq:\n",
    "        optimizer.zero_grad()\n",
    "        model.hidden_cell = (torch.zeros(1, 1, model.hidden_layer_size),\n",
    "                        torch.zeros(1, 1, model.hidden_layer_size))\n",
    "\n",
    "        y_pred = model(seq)\n",
    "\n",
    "        single_loss = loss_function(y_pred, labels)\n",
    "        single_loss.backward()\n",
    "        optimizer.step()\n",
    "\n",
    "    if i%10 == 1:\n",
    "        print(f'epoch: {i:3} loss: {single_loss.item():10.8f}')\n",
    "\n",
    "print(f'epoch: {i:3} loss: {single_loss.item():10.10f}')"
   ]
  },
  {
   "cell_type": "code",
   "execution_count": 104,
   "id": "discrete-clinic",
   "metadata": {},
   "outputs": [
    {
     "name": "stdout",
     "output_type": "stream",
     "text": [
      "208\n",
      "229\n",
      "[0.027027027681469917, 0.054054055362939835, 0.027027027681469917, 0.027027027681469917, 0.027027027681469917, 0.027027027681469917, 0.054054055362939835, 0.054054055362939835, 0.0810810774564743, 0.054054055362939835, 0.054054055362939835, 0.054054055362939835, 0.0810810774564743, 0.054054055362939835, 0.054054055362939835, 0.0, 0.0, 0.0, 0.027027027681469917, 0.0810810774564743]\n"
     ]
    }
   ],
   "source": [
    "fut_pred = len(train_data_normalized) - train_window - 1\n",
    "print(fut_pred)\n",
    "print(len(train_data_normalized))\n",
    "test_inputs = train_data_normalized[:train_window].tolist()\n",
    "print(test_inputs)"
   ]
  },
  {
   "cell_type": "code",
   "execution_count": 105,
   "id": "satisfied-treaty",
   "metadata": {},
   "outputs": [
    {
     "name": "stdout",
     "output_type": "stream",
     "text": [
      "228\n"
     ]
    }
   ],
   "source": [
    "model.eval()\n",
    "\n",
    "for i in range(fut_pred):\n",
    "    seq = torch.FloatTensor(train_data_normalized[i:i+(train_window)].tolist())\n",
    "    with torch.no_grad():\n",
    "        model.hidden = (torch.zeros(1, 1, model.hidden_layer_size),\n",
    "                        torch.zeros(1, 1, model.hidden_layer_size))\n",
    "        appendseq = np.mean(model(seq)[:,0].numpy())\n",
    "        test_inputs.append(appendseq)\n",
    "        \n",
    "print(len(test_inputs))"
   ]
  },
  {
   "cell_type": "code",
   "execution_count": 106,
   "id": "piano-warner",
   "metadata": {},
   "outputs": [
    {
     "data": {
      "text/plain": [
       "[0.027027027681469917,\n",
       " 0.054054055362939835,\n",
       " 0.027027027681469917,\n",
       " 0.027027027681469917,\n",
       " 0.027027027681469917,\n",
       " 0.027027027681469917,\n",
       " 0.054054055362939835,\n",
       " 0.054054055362939835,\n",
       " 0.0810810774564743,\n",
       " 0.054054055362939835,\n",
       " 0.054054055362939835,\n",
       " 0.054054055362939835,\n",
       " 0.0810810774564743,\n",
       " 0.054054055362939835,\n",
       " 0.054054055362939835,\n",
       " 0.0,\n",
       " 0.0,\n",
       " 0.0,\n",
       " 0.027027027681469917,\n",
       " 0.0810810774564743]"
      ]
     },
     "execution_count": 106,
     "metadata": {},
     "output_type": "execute_result"
    }
   ],
   "source": [
    "test_inputs[:20]"
   ]
  },
  {
   "cell_type": "code",
   "execution_count": 107,
   "id": "cardiac-pencil",
   "metadata": {},
   "outputs": [
    {
     "name": "stdout",
     "output_type": "stream",
     "text": [
      "[[0.28294912]\n",
      " [0.28294912]\n",
      " [0.28294912]\n",
      " [0.28294912]\n",
      " [0.28294912]\n",
      " [0.28294912]\n",
      " [0.28294912]\n",
      " [0.28294912]\n",
      " [0.28294912]\n",
      " [0.28294912]\n",
      " [0.28294912]\n",
      " [0.28294912]\n",
      " [0.28294912]\n",
      " [0.28294912]\n",
      " [0.28294912]\n",
      " [0.28294912]\n",
      " [0.28294912]\n",
      " [0.28294912]\n",
      " [0.28294912]\n",
      " [0.28294912]\n",
      " [0.28294912]\n",
      " [0.28294912]\n",
      " [0.28294912]\n",
      " [0.28294912]\n",
      " [0.28294912]\n",
      " [0.28294912]\n",
      " [0.28294912]\n",
      " [0.28294912]\n",
      " [0.28294912]\n",
      " [0.28294912]\n",
      " [0.28294912]\n",
      " [0.28294912]\n",
      " [0.28294912]\n",
      " [0.28294912]\n",
      " [0.28294912]\n",
      " [0.28294912]\n",
      " [0.28294912]\n",
      " [0.28294912]\n",
      " [0.28294912]\n",
      " [0.28294912]\n",
      " [0.28294912]\n",
      " [0.28294912]\n",
      " [0.28294912]\n",
      " [0.28294912]\n",
      " [0.28294912]\n",
      " [0.28294912]\n",
      " [0.28294912]\n",
      " [0.28294912]\n",
      " [0.28294912]\n",
      " [0.28294912]\n",
      " [0.28294912]\n",
      " [0.28294912]\n",
      " [0.28294912]\n",
      " [0.28294912]\n",
      " [0.28294912]\n",
      " [0.28294912]\n",
      " [0.28294912]\n",
      " [0.28294912]\n",
      " [0.28294912]\n",
      " [0.28294912]\n",
      " [0.28294912]\n",
      " [0.28294912]\n",
      " [0.28294912]\n",
      " [0.28294912]\n",
      " [0.28294912]\n",
      " [0.28294912]\n",
      " [0.28294912]\n",
      " [0.28294912]\n",
      " [0.28294912]\n",
      " [0.28294912]\n",
      " [0.28294912]\n",
      " [0.28294912]\n",
      " [0.28294912]\n",
      " [0.28294912]\n",
      " [0.28294912]\n",
      " [0.28294912]\n",
      " [0.28294912]\n",
      " [0.28294912]\n",
      " [0.28294912]\n",
      " [0.28294912]\n",
      " [0.28294912]\n",
      " [0.28294912]\n",
      " [0.28294912]\n",
      " [0.28294912]\n",
      " [0.28294912]\n",
      " [0.28294912]\n",
      " [0.28294912]\n",
      " [0.28294912]\n",
      " [0.28294912]\n",
      " [0.28294912]\n",
      " [0.28294912]\n",
      " [0.28294912]\n",
      " [0.28294912]\n",
      " [0.28294912]\n",
      " [0.28294912]\n",
      " [0.28294912]\n",
      " [0.28294912]\n",
      " [0.28294912]\n",
      " [0.28294912]\n",
      " [0.28294912]\n",
      " [0.28294912]\n",
      " [0.28294912]\n",
      " [0.28294912]\n",
      " [0.28294912]\n",
      " [0.28294912]\n",
      " [0.28294912]\n",
      " [0.28294912]\n",
      " [0.28294912]\n",
      " [0.28294912]\n",
      " [0.28294912]\n",
      " [0.28294912]\n",
      " [0.28294912]\n",
      " [0.28294912]\n",
      " [0.28294912]\n",
      " [0.28294912]\n",
      " [0.28294912]\n",
      " [0.28294912]\n",
      " [0.28294912]\n",
      " [0.28294912]\n",
      " [0.28294912]\n",
      " [0.28294912]\n",
      " [0.28294912]\n",
      " [0.28294912]\n",
      " [0.28294912]\n",
      " [0.28294912]\n",
      " [0.28294912]\n",
      " [0.28294912]\n",
      " [0.28294912]\n",
      " [0.28294912]\n",
      " [0.28294912]\n",
      " [0.28294912]\n",
      " [0.28294912]\n",
      " [0.28294912]\n",
      " [0.28294912]\n",
      " [0.28294912]\n",
      " [0.28294912]\n",
      " [0.28294912]\n",
      " [0.28294912]\n",
      " [0.28294912]\n",
      " [0.28294912]\n",
      " [0.28294912]\n",
      " [0.28294912]\n",
      " [0.28294912]\n",
      " [0.28294912]\n",
      " [0.28294912]\n",
      " [0.28294912]\n",
      " [0.28294912]\n",
      " [0.28294912]\n",
      " [0.28294912]\n",
      " [0.28294912]\n",
      " [0.28294912]\n",
      " [0.28294912]\n",
      " [0.28294912]\n",
      " [0.28294912]\n",
      " [0.28294912]\n",
      " [0.28294912]\n",
      " [0.28294912]\n",
      " [0.28294912]\n",
      " [0.28294912]\n",
      " [0.28294912]\n",
      " [0.28294912]\n",
      " [0.28294912]\n",
      " [0.28294912]\n",
      " [0.28294912]\n",
      " [0.28294912]\n",
      " [0.28294912]\n",
      " [0.28294912]\n",
      " [0.28294912]\n",
      " [0.28294912]\n",
      " [0.28294912]\n",
      " [0.28294912]\n",
      " [0.28294912]\n",
      " [0.28294912]\n",
      " [0.28294912]\n",
      " [0.28294912]\n",
      " [0.28294912]\n",
      " [0.28294912]\n",
      " [0.28294912]\n",
      " [0.28294912]\n",
      " [0.28294912]\n",
      " [0.28294912]\n",
      " [0.28294912]\n",
      " [0.28294912]\n",
      " [0.28294912]\n",
      " [0.28294912]\n",
      " [0.28294912]\n",
      " [0.28294912]\n",
      " [0.28294912]\n",
      " [0.28294912]\n",
      " [0.28294912]\n",
      " [0.28294912]\n",
      " [0.28294912]\n",
      " [0.28294912]\n",
      " [0.28294912]\n",
      " [0.28294912]\n",
      " [0.28294912]\n",
      " [0.28294912]\n",
      " [0.28294912]\n",
      " [0.28294912]\n",
      " [0.28294912]\n",
      " [0.28294912]\n",
      " [0.28294912]\n",
      " [0.28294912]\n",
      " [0.28294912]\n",
      " [0.28294912]\n",
      " [0.28294912]\n",
      " [0.28294912]\n",
      " [0.28294912]]\n"
     ]
    }
   ],
   "source": [
    "actual_predictions = scaler.inverse_transform(np.array(test_inputs[train_window:]).reshape(-1,1))\n",
    "print(actual_predictions)"
   ]
  },
  {
   "cell_type": "code",
   "execution_count": 109,
   "id": "recognized-effectiveness",
   "metadata": {},
   "outputs": [
    {
     "data": {
      "text/plain": [
       "[<matplotlib.lines.Line2D at 0x1b1921ac9d0>]"
      ]
     },
     "execution_count": 109,
     "metadata": {},
     "output_type": "execute_result"
    },
    {
     "data": {
      "image/png": "[encoded data removed]",
      "text/plain": [
       "<Figure size 432x288 with 1 Axes>"
      ]
     },
     "metadata": {
      "needs_background": "light"
     },
     "output_type": "display_data"
    }
   ],
   "source": [
    "plt.plot(train_data)\n",
    "plt.plot(range(train_window,train_window+fut_pred),actual_predictions[:,0])"
   ]
  },
  {
   "cell_type": "code",
   "execution_count": 110,
   "id": "employed-personality",
   "metadata": {},
   "outputs": [
    {
     "name": "stdout",
     "output_type": "stream",
     "text": [
      "(208, 1)\n",
      "(208, 1)\n",
      "Resistance    3.632914\n",
      "dtype: float64\n"
     ]
    }
   ],
   "source": [
    "print(train_data[train_window:-1].shape)\n",
    "print(actual_predictions.shape)\n",
    "print(MAPE(train_data[train_window:-1], actual_predictions[:]))"
   ]
  },
  {
   "cell_type": "code",
   "execution_count": 111,
   "id": "compressed-neighbor",
   "metadata": {},
   "outputs": [
    {
     "name": "stdout",
     "output_type": "stream",
     "text": [
      "258\n",
      "237\n"
     ]
    },
    {
     "ename": "ValueError",
     "evalue": "only one element tensors can be converted to Python scalars",
     "output_type": "error",
     "traceback": [
      "\u001b[1;31m---------------------------------------------------------------------------\u001b[0m",
      "\u001b[1;31mValueError\u001b[0m                                Traceback (most recent call last)",
      "\u001b[1;32m<ipython-input-111-ee885c482698>\u001b[0m in \u001b[0;36m<module>\u001b[1;34m\u001b[0m\n\u001b[0;32m     16\u001b[0m     \u001b[1;32mwith\u001b[0m \u001b[0mtorch\u001b[0m\u001b[1;33m.\u001b[0m\u001b[0mno_grad\u001b[0m\u001b[1;33m(\u001b[0m\u001b[1;33m)\u001b[0m\u001b[1;33m:\u001b[0m\u001b[1;33m\u001b[0m\u001b[1;33m\u001b[0m\u001b[0m\n\u001b[0;32m     17\u001b[0m         \u001b[0mmodel\u001b[0m\u001b[1;33m.\u001b[0m\u001b[0mhidden\u001b[0m \u001b[1;33m=\u001b[0m \u001b[1;33m(\u001b[0m\u001b[0mtorch\u001b[0m\u001b[1;33m.\u001b[0m\u001b[0mzeros\u001b[0m\u001b[1;33m(\u001b[0m\u001b[1;36m1\u001b[0m\u001b[1;33m,\u001b[0m \u001b[1;36m1\u001b[0m\u001b[1;33m,\u001b[0m \u001b[0mmodel\u001b[0m\u001b[1;33m.\u001b[0m\u001b[0mhidden_layer_size\u001b[0m\u001b[1;33m)\u001b[0m\u001b[1;33m,\u001b[0m \u001b[0mtorch\u001b[0m\u001b[1;33m.\u001b[0m\u001b[0mzeros\u001b[0m\u001b[1;33m(\u001b[0m\u001b[1;36m1\u001b[0m\u001b[1;33m,\u001b[0m \u001b[1;36m1\u001b[0m\u001b[1;33m,\u001b[0m \u001b[0mmodel\u001b[0m\u001b[1;33m.\u001b[0m\u001b[0mhidden_layer_size\u001b[0m\u001b[1;33m)\u001b[0m\u001b[1;33m)\u001b[0m\u001b[1;33m\u001b[0m\u001b[1;33m\u001b[0m\u001b[0m\n\u001b[1;32m---> 18\u001b[1;33m         \u001b[0mtest_inputs\u001b[0m\u001b[1;33m.\u001b[0m\u001b[0mappend\u001b[0m\u001b[1;33m(\u001b[0m\u001b[0mmodel\u001b[0m\u001b[1;33m(\u001b[0m\u001b[0mseq\u001b[0m\u001b[1;33m)\u001b[0m\u001b[1;33m.\u001b[0m\u001b[0mitem\u001b[0m\u001b[1;33m(\u001b[0m\u001b[1;33m)\u001b[0m\u001b[1;33m)\u001b[0m\u001b[1;33m\u001b[0m\u001b[1;33m\u001b[0m\u001b[0m\n\u001b[0m\u001b[0;32m     19\u001b[0m \u001b[1;33m\u001b[0m\u001b[0m\n\u001b[0;32m     20\u001b[0m \u001b[0mactual_predictions\u001b[0m \u001b[1;33m=\u001b[0m \u001b[0mscaler\u001b[0m\u001b[1;33m.\u001b[0m\u001b[0minverse_transform\u001b[0m\u001b[1;33m(\u001b[0m\u001b[0mnp\u001b[0m\u001b[1;33m.\u001b[0m\u001b[0marray\u001b[0m\u001b[1;33m(\u001b[0m\u001b[0mtest_inputs\u001b[0m\u001b[1;33m[\u001b[0m\u001b[0mtrain_window\u001b[0m\u001b[1;33m:\u001b[0m\u001b[1;33m]\u001b[0m\u001b[1;33m)\u001b[0m\u001b[1;33m.\u001b[0m\u001b[0mreshape\u001b[0m\u001b[1;33m(\u001b[0m\u001b[1;33m-\u001b[0m\u001b[1;36m1\u001b[0m\u001b[1;33m,\u001b[0m\u001b[1;36m1\u001b[0m\u001b[1;33m)\u001b[0m\u001b[1;33m)\u001b[0m\u001b[1;33m\u001b[0m\u001b[1;33m\u001b[0m\u001b[0m\n",
      "\u001b[1;31mValueError\u001b[0m: only one element tensors can be converted to Python scalars"
     ]
    }
   ],
   "source": [
    "test_df = pd.read_csv('testset/J0003_0024_0221_20110307012732_cell_03.csv', encoding='utf8')\n",
    "\n",
    "test_df = test_df['Resistance']\n",
    "test_data = test_df\n",
    "test_data = pd.DataFrame(test_data)\n",
    "test_data.columns = scale_cols\n",
    "test_data_normalized = scaler.fit_transform(test_data[scale_cols])\n",
    "test_data_normalized = torch.FloatTensor(test_data_normalized).view(-1)\n",
    "test_inputs = test_data_normalized[:train_window].tolist()\n",
    "fut_pred = len(test_data_normalized) - train_window - 1\n",
    "print(len(test_data_normalized))\n",
    "print(fut_pred)\n",
    "\n",
    "for i in range(fut_pred):\n",
    "    seq = torch.FloatTensor(train_data_normalized[i:i+(train_window)].tolist())\n",
    "    with torch.no_grad():\n",
    "        model.hidden = (torch.zeros(1, 1, model.hidden_layer_size), torch.zeros(1, 1, model.hidden_layer_size))\n",
    "        test_inputs.append(model(seq).item())\n",
    "\n",
    "actual_predictions = scaler.inverse_transform(np.array(test_inputs[train_window:]).reshape(-1,1))\n",
    "\n",
    "print(MAPE(test_data[train_window:-1], actual_predictions[:]))\n",
    "\n",
    "plt.plot(test_df)\n",
    "plt.plot(range(train_window, train_window+fut_pred), actual_predictions[:,0])"
   ]
  },
  {
   "cell_type": "code",
   "execution_count": 112,
   "id": "communist-deployment",
   "metadata": {},
   "outputs": [
    {
     "name": "stdout",
     "output_type": "stream",
     "text": [
      "256\n",
      "235\n"
     ]
    },
    {
     "ename": "ValueError",
     "evalue": "only one element tensors can be converted to Python scalars",
     "output_type": "error",
     "traceback": [
      "\u001b[1;31m---------------------------------------------------------------------------\u001b[0m",
      "\u001b[1;31mValueError\u001b[0m                                Traceback (most recent call last)",
      "\u001b[1;32m<ipython-input-112-3378c68db2fb>\u001b[0m in \u001b[0;36m<module>\u001b[1;34m\u001b[0m\n\u001b[0;32m     16\u001b[0m     \u001b[1;32mwith\u001b[0m \u001b[0mtorch\u001b[0m\u001b[1;33m.\u001b[0m\u001b[0mno_grad\u001b[0m\u001b[1;33m(\u001b[0m\u001b[1;33m)\u001b[0m\u001b[1;33m:\u001b[0m\u001b[1;33m\u001b[0m\u001b[1;33m\u001b[0m\u001b[0m\n\u001b[0;32m     17\u001b[0m         \u001b[0mmodel\u001b[0m\u001b[1;33m.\u001b[0m\u001b[0mhidden\u001b[0m \u001b[1;33m=\u001b[0m \u001b[1;33m(\u001b[0m\u001b[0mtorch\u001b[0m\u001b[1;33m.\u001b[0m\u001b[0mzeros\u001b[0m\u001b[1;33m(\u001b[0m\u001b[1;36m1\u001b[0m\u001b[1;33m,\u001b[0m \u001b[1;36m1\u001b[0m\u001b[1;33m,\u001b[0m \u001b[0mmodel\u001b[0m\u001b[1;33m.\u001b[0m\u001b[0mhidden_layer_size\u001b[0m\u001b[1;33m)\u001b[0m\u001b[1;33m,\u001b[0m \u001b[0mtorch\u001b[0m\u001b[1;33m.\u001b[0m\u001b[0mzeros\u001b[0m\u001b[1;33m(\u001b[0m\u001b[1;36m1\u001b[0m\u001b[1;33m,\u001b[0m \u001b[1;36m1\u001b[0m\u001b[1;33m,\u001b[0m \u001b[0mmodel\u001b[0m\u001b[1;33m.\u001b[0m\u001b[0mhidden_layer_size\u001b[0m\u001b[1;33m)\u001b[0m\u001b[1;33m)\u001b[0m\u001b[1;33m\u001b[0m\u001b[1;33m\u001b[0m\u001b[0m\n\u001b[1;32m---> 18\u001b[1;33m         \u001b[0mtest_inputs\u001b[0m\u001b[1;33m.\u001b[0m\u001b[0mappend\u001b[0m\u001b[1;33m(\u001b[0m\u001b[0mmodel\u001b[0m\u001b[1;33m(\u001b[0m\u001b[0mseq\u001b[0m\u001b[1;33m)\u001b[0m\u001b[1;33m.\u001b[0m\u001b[0mitem\u001b[0m\u001b[1;33m(\u001b[0m\u001b[1;33m)\u001b[0m\u001b[1;33m)\u001b[0m\u001b[1;33m\u001b[0m\u001b[1;33m\u001b[0m\u001b[0m\n\u001b[0m\u001b[0;32m     19\u001b[0m \u001b[1;33m\u001b[0m\u001b[0m\n\u001b[0;32m     20\u001b[0m \u001b[0mactual_predictions\u001b[0m \u001b[1;33m=\u001b[0m \u001b[0mscaler\u001b[0m\u001b[1;33m.\u001b[0m\u001b[0minverse_transform\u001b[0m\u001b[1;33m(\u001b[0m\u001b[0mnp\u001b[0m\u001b[1;33m.\u001b[0m\u001b[0marray\u001b[0m\u001b[1;33m(\u001b[0m\u001b[0mtest_inputs\u001b[0m\u001b[1;33m[\u001b[0m\u001b[0mtrain_window\u001b[0m\u001b[1;33m:\u001b[0m\u001b[1;33m]\u001b[0m\u001b[1;33m)\u001b[0m\u001b[1;33m.\u001b[0m\u001b[0mreshape\u001b[0m\u001b[1;33m(\u001b[0m\u001b[1;33m-\u001b[0m\u001b[1;36m1\u001b[0m\u001b[1;33m,\u001b[0m\u001b[1;36m1\u001b[0m\u001b[1;33m)\u001b[0m\u001b[1;33m)\u001b[0m\u001b[1;33m\u001b[0m\u001b[1;33m\u001b[0m\u001b[0m\n",
      "\u001b[1;31mValueError\u001b[0m: only one element tensors can be converted to Python scalars"
     ]
    }
   ],
   "source": [
    "test_df = pd.read_csv('testset/J0003_0024_0221_20110307012732_cell_06.csv', encoding='utf8')\n",
    "\n",
    "test_df = test_df['Resistance']\n",
    "test_data = test_df\n",
    "test_data = pd.DataFrame(test_data)\n",
    "test_data.columns = scale_cols\n",
    "test_data_normalized = scaler.fit_transform(test_data[scale_cols])\n",
    "test_data_normalized = torch.FloatTensor(test_data_normalized).view(-1)\n",
    "test_inputs = test_data_normalized[:train_window].tolist()\n",
    "fut_pred = len(test_data_normalized) - train_window - 1\n",
    "print(len(test_data_normalized))\n",
    "print(fut_pred)\n",
    "\n",
    "for i in range(fut_pred):\n",
    "    seq = torch.FloatTensor(train_data_normalized[i:i+(train_window)].tolist())\n",
    "    with torch.no_grad():\n",
    "        model.hidden = (torch.zeros(1, 1, model.hidden_layer_size), torch.zeros(1, 1, model.hidden_layer_size))\n",
    "        test_inputs.append(model(seq).item())\n",
    "\n",
    "actual_predictions = scaler.inverse_transform(np.array(test_inputs[train_window:]).reshape(-1,1))\n",
    "\n",
    "print(MAPE(test_data[train_window:-1], actual_predictions[:]))\n",
    "\n",
    "plt.plot(test_df)\n",
    "plt.plot(range(train_window, train_window+fut_pred), actual_predictions[:,0])"
   ]
  },
  {
   "cell_type": "code",
   "execution_count": 113,
   "id": "reliable-helmet",
   "metadata": {
    "scrolled": false
   },
   "outputs": [
    {
     "name": "stdout",
     "output_type": "stream",
     "text": [
      "255\n",
      "234\n"
     ]
    },
    {
     "ename": "ValueError",
     "evalue": "only one element tensors can be converted to Python scalars",
     "output_type": "error",
     "traceback": [
      "\u001b[1;31m---------------------------------------------------------------------------\u001b[0m",
      "\u001b[1;31mValueError\u001b[0m                                Traceback (most recent call last)",
      "\u001b[1;32m<ipython-input-113-e7e4d7e8d9ac>\u001b[0m in \u001b[0;36m<module>\u001b[1;34m\u001b[0m\n\u001b[0;32m     16\u001b[0m     \u001b[1;32mwith\u001b[0m \u001b[0mtorch\u001b[0m\u001b[1;33m.\u001b[0m\u001b[0mno_grad\u001b[0m\u001b[1;33m(\u001b[0m\u001b[1;33m)\u001b[0m\u001b[1;33m:\u001b[0m\u001b[1;33m\u001b[0m\u001b[1;33m\u001b[0m\u001b[0m\n\u001b[0;32m     17\u001b[0m         \u001b[0mmodel\u001b[0m\u001b[1;33m.\u001b[0m\u001b[0mhidden\u001b[0m \u001b[1;33m=\u001b[0m \u001b[1;33m(\u001b[0m\u001b[0mtorch\u001b[0m\u001b[1;33m.\u001b[0m\u001b[0mzeros\u001b[0m\u001b[1;33m(\u001b[0m\u001b[1;36m1\u001b[0m\u001b[1;33m,\u001b[0m \u001b[1;36m1\u001b[0m\u001b[1;33m,\u001b[0m \u001b[0mmodel\u001b[0m\u001b[1;33m.\u001b[0m\u001b[0mhidden_layer_size\u001b[0m\u001b[1;33m)\u001b[0m\u001b[1;33m,\u001b[0m \u001b[0mtorch\u001b[0m\u001b[1;33m.\u001b[0m\u001b[0mzeros\u001b[0m\u001b[1;33m(\u001b[0m\u001b[1;36m1\u001b[0m\u001b[1;33m,\u001b[0m \u001b[1;36m1\u001b[0m\u001b[1;33m,\u001b[0m \u001b[0mmodel\u001b[0m\u001b[1;33m.\u001b[0m\u001b[0mhidden_layer_size\u001b[0m\u001b[1;33m)\u001b[0m\u001b[1;33m)\u001b[0m\u001b[1;33m\u001b[0m\u001b[1;33m\u001b[0m\u001b[0m\n\u001b[1;32m---> 18\u001b[1;33m         \u001b[0mtest_inputs\u001b[0m\u001b[1;33m.\u001b[0m\u001b[0mappend\u001b[0m\u001b[1;33m(\u001b[0m\u001b[0mmodel\u001b[0m\u001b[1;33m(\u001b[0m\u001b[0mseq\u001b[0m\u001b[1;33m)\u001b[0m\u001b[1;33m.\u001b[0m\u001b[0mitem\u001b[0m\u001b[1;33m(\u001b[0m\u001b[1;33m)\u001b[0m\u001b[1;33m)\u001b[0m\u001b[1;33m\u001b[0m\u001b[1;33m\u001b[0m\u001b[0m\n\u001b[0m\u001b[0;32m     19\u001b[0m \u001b[1;33m\u001b[0m\u001b[0m\n\u001b[0;32m     20\u001b[0m \u001b[0mactual_predictions\u001b[0m \u001b[1;33m=\u001b[0m \u001b[0mscaler\u001b[0m\u001b[1;33m.\u001b[0m\u001b[0minverse_transform\u001b[0m\u001b[1;33m(\u001b[0m\u001b[0mnp\u001b[0m\u001b[1;33m.\u001b[0m\u001b[0marray\u001b[0m\u001b[1;33m(\u001b[0m\u001b[0mtest_inputs\u001b[0m\u001b[1;33m[\u001b[0m\u001b[0mtrain_window\u001b[0m\u001b[1;33m:\u001b[0m\u001b[1;33m]\u001b[0m\u001b[1;33m)\u001b[0m\u001b[1;33m.\u001b[0m\u001b[0mreshape\u001b[0m\u001b[1;33m(\u001b[0m\u001b[1;33m-\u001b[0m\u001b[1;36m1\u001b[0m\u001b[1;33m,\u001b[0m\u001b[1;36m1\u001b[0m\u001b[1;33m)\u001b[0m\u001b[1;33m)\u001b[0m\u001b[1;33m\u001b[0m\u001b[1;33m\u001b[0m\u001b[0m\n",
      "\u001b[1;31mValueError\u001b[0m: only one element tensors can be converted to Python scalars"
     ]
    }
   ],
   "source": [
    "test_df = pd.read_csv('testset/J0003_0024_0221_20110307012732_cell_7.csv', encoding='utf8')\n",
    "\n",
    "test_df = test_df['Resistance']\n",
    "test_data = test_df\n",
    "test_data = pd.DataFrame(test_data)\n",
    "test_data.columns = scale_cols\n",
    "test_data_normalized = scaler.fit_transform(test_data[scale_cols])\n",
    "test_data_normalized = torch.FloatTensor(test_data_normalized).view(-1)\n",
    "test_inputs = test_data_normalized[:train_window].tolist()\n",
    "fut_pred = len(test_data_normalized) - train_window - 1\n",
    "print(len(test_data_normalized))\n",
    "print(fut_pred)\n",
    "\n",
    "for i in range(fut_pred):\n",
    "    seq = torch.FloatTensor(train_data_normalized[i:i+(train_window)].tolist())\n",
    "    with torch.no_grad():\n",
    "        model.hidden = (torch.zeros(1, 1, model.hidden_layer_size), torch.zeros(1, 1, model.hidden_layer_size))\n",
    "        test_inputs.append(model(seq).item())\n",
    "\n",
    "actual_predictions = scaler.inverse_transform(np.array(test_inputs[train_window:]).reshape(-1,1))\n",
    "\n",
    "print(MAPE(test_data[train_window:-1], actual_predictions[:]))\n",
    "\n",
    "plt.plot(test_df)\n",
    "plt.plot(range(train_window, train_window+fut_pred), actual_predictions[:,0])"
   ]
  },
  {
   "cell_type": "code",
   "execution_count": 114,
   "id": "central-operator",
   "metadata": {},
   "outputs": [
    {
     "name": "stdout",
     "output_type": "stream",
     "text": [
      "254\n",
      "233\n"
     ]
    },
    {
     "ename": "ValueError",
     "evalue": "only one element tensors can be converted to Python scalars",
     "output_type": "error",
     "traceback": [
      "\u001b[1;31m---------------------------------------------------------------------------\u001b[0m",
      "\u001b[1;31mValueError\u001b[0m                                Traceback (most recent call last)",
      "\u001b[1;32m<ipython-input-114-360402137a5f>\u001b[0m in \u001b[0;36m<module>\u001b[1;34m\u001b[0m\n\u001b[0;32m     16\u001b[0m     \u001b[1;32mwith\u001b[0m \u001b[0mtorch\u001b[0m\u001b[1;33m.\u001b[0m\u001b[0mno_grad\u001b[0m\u001b[1;33m(\u001b[0m\u001b[1;33m)\u001b[0m\u001b[1;33m:\u001b[0m\u001b[1;33m\u001b[0m\u001b[1;33m\u001b[0m\u001b[0m\n\u001b[0;32m     17\u001b[0m         \u001b[0mmodel\u001b[0m\u001b[1;33m.\u001b[0m\u001b[0mhidden\u001b[0m \u001b[1;33m=\u001b[0m \u001b[1;33m(\u001b[0m\u001b[0mtorch\u001b[0m\u001b[1;33m.\u001b[0m\u001b[0mzeros\u001b[0m\u001b[1;33m(\u001b[0m\u001b[1;36m1\u001b[0m\u001b[1;33m,\u001b[0m \u001b[1;36m1\u001b[0m\u001b[1;33m,\u001b[0m \u001b[0mmodel\u001b[0m\u001b[1;33m.\u001b[0m\u001b[0mhidden_layer_size\u001b[0m\u001b[1;33m)\u001b[0m\u001b[1;33m,\u001b[0m \u001b[0mtorch\u001b[0m\u001b[1;33m.\u001b[0m\u001b[0mzeros\u001b[0m\u001b[1;33m(\u001b[0m\u001b[1;36m1\u001b[0m\u001b[1;33m,\u001b[0m \u001b[1;36m1\u001b[0m\u001b[1;33m,\u001b[0m \u001b[0mmodel\u001b[0m\u001b[1;33m.\u001b[0m\u001b[0mhidden_layer_size\u001b[0m\u001b[1;33m)\u001b[0m\u001b[1;33m)\u001b[0m\u001b[1;33m\u001b[0m\u001b[1;33m\u001b[0m\u001b[0m\n\u001b[1;32m---> 18\u001b[1;33m         \u001b[0mtest_inputs\u001b[0m\u001b[1;33m.\u001b[0m\u001b[0mappend\u001b[0m\u001b[1;33m(\u001b[0m\u001b[0mmodel\u001b[0m\u001b[1;33m(\u001b[0m\u001b[0mseq\u001b[0m\u001b[1;33m)\u001b[0m\u001b[1;33m.\u001b[0m\u001b[0mitem\u001b[0m\u001b[1;33m(\u001b[0m\u001b[1;33m)\u001b[0m\u001b[1;33m)\u001b[0m\u001b[1;33m\u001b[0m\u001b[1;33m\u001b[0m\u001b[0m\n\u001b[0m\u001b[0;32m     19\u001b[0m \u001b[1;33m\u001b[0m\u001b[0m\n\u001b[0;32m     20\u001b[0m \u001b[0mactual_predictions\u001b[0m \u001b[1;33m=\u001b[0m \u001b[0mscaler\u001b[0m\u001b[1;33m.\u001b[0m\u001b[0minverse_transform\u001b[0m\u001b[1;33m(\u001b[0m\u001b[0mnp\u001b[0m\u001b[1;33m.\u001b[0m\u001b[0marray\u001b[0m\u001b[1;33m(\u001b[0m\u001b[0mtest_inputs\u001b[0m\u001b[1;33m[\u001b[0m\u001b[0mtrain_window\u001b[0m\u001b[1;33m:\u001b[0m\u001b[1;33m]\u001b[0m\u001b[1;33m)\u001b[0m\u001b[1;33m.\u001b[0m\u001b[0mreshape\u001b[0m\u001b[1;33m(\u001b[0m\u001b[1;33m-\u001b[0m\u001b[1;36m1\u001b[0m\u001b[1;33m,\u001b[0m\u001b[1;36m1\u001b[0m\u001b[1;33m)\u001b[0m\u001b[1;33m)\u001b[0m\u001b[1;33m\u001b[0m\u001b[1;33m\u001b[0m\u001b[0m\n",
      "\u001b[1;31mValueError\u001b[0m: only one element tensors can be converted to Python scalars"
     ]
    }
   ],
   "source": [
    "test_df = pd.read_csv('testset/J0003_0024_0221_20110307012732_cell_9.csv', encoding='utf8')\n",
    "\n",
    "test_df = test_df['Resistance']\n",
    "test_data = test_df\n",
    "test_data = pd.DataFrame(test_data)\n",
    "test_data.columns = scale_cols\n",
    "test_data_normalized = scaler.fit_transform(test_data[scale_cols])\n",
    "test_data_normalized = torch.FloatTensor(test_data_normalized).view(-1)\n",
    "test_inputs = test_data_normalized[:train_window].tolist()\n",
    "fut_pred = len(test_data_normalized) - train_window - 1\n",
    "print(len(test_data_normalized))\n",
    "print(fut_pred)\n",
    "\n",
    "for i in range(fut_pred):\n",
    "    seq = torch.FloatTensor(train_data_normalized[i:i+(train_window)].tolist())\n",
    "    with torch.no_grad():\n",
    "        model.hidden = (torch.zeros(1, 1, model.hidden_layer_size), torch.zeros(1, 1, model.hidden_layer_size))\n",
    "        test_inputs.append(model(seq).item())\n",
    "\n",
    "actual_predictions = scaler.inverse_transform(np.array(test_inputs[train_window:]).reshape(-1,1))\n",
    "\n",
    "print(MAPE(test_data[train_window:-1], actual_predictions[:]))\n",
    "\n",
    "plt.plot(test_df)\n",
    "plt.plot(range(train_window, train_window+fut_pred), actual_predictions[:,0])"
   ]
  },
  {
   "cell_type": "code",
   "execution_count": null,
   "id": "positive-segment",
   "metadata": {},
   "outputs": [],
   "source": [
    "test_df = pd.read_csv('testset/J0003_0024_0221_20110307012732_cell_18.csv', encoding='utf8')\n",
    "\n",
    "test_df = test_df['Resistance']\n",
    "test_data = test_df\n",
    "test_data = pd.DataFrame(test_data)\n",
    "test_data.columns = scale_cols\n",
    "test_data_normalized = scaler.fit_transform(test_data[scale_cols])\n",
    "test_data_normalized = torch.FloatTensor(test_data_normalized).view(-1)\n",
    "test_inputs = test_data_normalized[:train_window].tolist()\n",
    "fut_pred = len(test_data_normalized) - train_window - 1\n",
    "print(len(test_data_normalized))\n",
    "print(fut_pred)\n",
    "\n",
    "for i in range(fut_pred):\n",
    "    seq = torch.FloatTensor(train_data_normalized[i:i+(train_window)].tolist())\n",
    "    with torch.no_grad():\n",
    "        model.hidden = (torch.zeros(1, 1, model.hidden_layer_size), torch.zeros(1, 1, model.hidden_layer_size))\n",
    "        test_inputs.append(model(seq).item())\n",
    "\n",
    "actual_predictions = scaler.inverse_transform(np.array(test_inputs[train_window:]).reshape(-1,1))\n",
    "\n",
    "print(MAPE(test_data[train_window:-1], actual_predictions[:]))\n",
    "\n",
    "plt.plot(test_df)\n",
    "plt.plot(range(train_window, train_window+fut_pred), actual_predictions[:,0])"
   ]
  },
  {
   "cell_type": "code",
   "execution_count": null,
   "id": "distributed-cradle",
   "metadata": {},
   "outputs": [],
   "source": [
    "test_df = pd.read_csv('testset/J0003_0024_0221_20110307012732_cell_19.csv', encoding='utf8')\n",
    "\n",
    "test_df = test_df['Resistance']\n",
    "test_data = test_df\n",
    "test_data = pd.DataFrame(test_data)\n",
    "test_data.columns = scale_cols\n",
    "test_data_normalized = scaler.fit_transform(test_data[scale_cols])\n",
    "test_data_normalized = torch.FloatTensor(test_data_normalized).view(-1)\n",
    "test_inputs = test_data_normalized[:train_window].tolist()\n",
    "fut_pred = len(test_data_normalized) - train_window - 1\n",
    "print(len(test_data_normalized))\n",
    "print(fut_pred)\n",
    "\n",
    "for i in range(fut_pred):\n",
    "    seq = torch.FloatTensor(train_data_normalized[i:i+(train_window)].tolist())\n",
    "    with torch.no_grad():\n",
    "        model.hidden = (torch.zeros(1, 1, model.hidden_layer_size), torch.zeros(1, 1, model.hidden_layer_size))\n",
    "        test_inputs.append(model(seq).item())\n",
    "\n",
    "actual_predictions = scaler.inverse_transform(np.array(test_inputs[train_window:]).reshape(-1,1))\n",
    "\n",
    "print(MAPE(test_data[train_window:-1], actual_predictions[:]))\n",
    "\n",
    "plt.plot(test_df)\n",
    "plt.plot(range(train_window, train_window+fut_pred), actual_predictions[:,0])"
   ]
  },
  {
   "cell_type": "code",
   "execution_count": null,
   "id": "accurate-berlin",
   "metadata": {},
   "outputs": [],
   "source": [
    "test_df = pd.read_csv('testset/J0003_0024_0221_20110307012732_cell_20.csv', encoding='utf8')\n",
    "\n",
    "test_df = test_df['Resistance']\n",
    "test_data = test_df\n",
    "test_data = pd.DataFrame(test_data)\n",
    "test_data.columns = scale_cols\n",
    "test_data_normalized = scaler.fit_transform(test_data[scale_cols])\n",
    "test_data_normalized = torch.FloatTensor(test_data_normalized).view(-1)\n",
    "test_inputs = test_data_normalized[:train_window].tolist()\n",
    "fut_pred = len(test_data_normalized) - train_window - 1\n",
    "print(len(test_data_normalized))\n",
    "print(fut_pred)\n",
    "\n",
    "for i in range(fut_pred):\n",
    "    seq = torch.FloatTensor(train_data_normalized[i:i+(train_window)].tolist())\n",
    "    with torch.no_grad():\n",
    "        model.hidden = (torch.zeros(1, 1, model.hidden_layer_size), torch.zeros(1, 1, model.hidden_layer_size))\n",
    "        test_inputs.append(model(seq).item())\n",
    "\n",
    "actual_predictions = scaler.inverse_transform(np.array(test_inputs[train_window:]).reshape(-1,1))\n",
    "\n",
    "print(MAPE(test_data[train_window:-1], actual_predictions[:]))\n",
    "\n",
    "plt.plot(test_df)\n",
    "plt.plot(range(train_window, train_window+fut_pred), actual_predictions[:,0])"
   ]
  },
  {
   "cell_type": "code",
   "execution_count": null,
   "id": "liberal-editing",
   "metadata": {},
   "outputs": [],
   "source": [
    "test_df = pd.read_csv('testset/J0003_0024_0221_20110307012732_cell_22.csv', encoding='utf8')\n",
    "\n",
    "test_df = test_df['Resistance']\n",
    "test_data = test_df\n",
    "test_data = pd.DataFrame(test_data)\n",
    "test_data.columns = scale_cols\n",
    "test_data_normalized = scaler.fit_transform(test_data[scale_cols])\n",
    "test_data_normalized = torch.FloatTensor(test_data_normalized).view(-1)\n",
    "test_inputs = test_data_normalized[:train_window].tolist()\n",
    "fut_pred = len(test_data_normalized) - train_window - 1\n",
    "print(len(test_data_normalized))\n",
    "print(fut_pred)\n",
    "\n",
    "for i in range(fut_pred):\n",
    "    seq = torch.FloatTensor(train_data_normalized[i:i+(train_window)].tolist())\n",
    "    with torch.no_grad():\n",
    "        model.hidden = (torch.zeros(1, 1, model.hidden_layer_size), torch.zeros(1, 1, model.hidden_layer_size))\n",
    "        test_inputs.append(model(seq).item())\n",
    "\n",
    "actual_predictions = scaler.inverse_transform(np.array(test_inputs[train_window:]).reshape(-1,1))\n",
    "\n",
    "print(MAPE(test_data[train_window:-1], actual_predictions[:]))\n",
    "\n",
    "plt.plot(test_df)\n",
    "plt.plot(range(train_window, train_window+fut_pred), actual_predictions[:,0])"
   ]
  },
  {
   "cell_type": "code",
   "execution_count": null,
   "id": "uniform-correspondence",
   "metadata": {},
   "outputs": [],
   "source": [
    "test_df = pd.read_csv('testset/J0003_0024_0221_20110307012732_cell_23.csv', encoding='utf8')\n",
    "\n",
    "test_df = test_df['Resistance']\n",
    "test_data = test_df\n",
    "test_data = pd.DataFrame(test_data)\n",
    "test_data.columns = scale_cols\n",
    "test_data_normalized = scaler.fit_transform(test_data[scale_cols])\n",
    "test_data_normalized = torch.FloatTensor(test_data_normalized).view(-1)\n",
    "test_inputs = test_data_normalized[:train_window].tolist()\n",
    "fut_pred = len(test_data_normalized) - train_window - 1\n",
    "print(len(test_data_normalized))\n",
    "print(fut_pred)\n",
    "\n",
    "for i in range(fut_pred):\n",
    "    seq = torch.FloatTensor(train_data_normalized[i:i+(train_window)].tolist())\n",
    "    with torch.no_grad():\n",
    "        model.hidden = (torch.zeros(1, 1, model.hidden_layer_size), torch.zeros(1, 1, model.hidden_layer_size))\n",
    "        test_inputs.append(model(seq).item())\n",
    "\n",
    "actual_predictions = scaler.inverse_transform(np.array(test_inputs[train_window:]).reshape(-1,1))\n",
    "\n",
    "print(MAPE(test_data[train_window:-1], actual_predictions[:]))\n",
    "\n",
    "plt.plot(test_df)\n",
    "plt.plot(range(train_window, train_window+fut_pred), actual_predictions[:,0])"
   ]
  }
 ],
 "metadata": {
  "kernelspec": {
   "display_name": "Python 3",
   "language": "python",
   "name": "python3"
  },
  "language_info": {
   "codemirror_mode": {
    "name": "ipython",
    "version": 3
   },
   "file_extension": ".py",
   "mimetype": "text/x-python",
   "name": "python",
   "nbconvert_exporter": "python",
   "pygments_lexer": "ipython3",
   "version": "3.8.5"
  }
 },
 "nbformat": 4,
 "nbformat_minor": 5
}
