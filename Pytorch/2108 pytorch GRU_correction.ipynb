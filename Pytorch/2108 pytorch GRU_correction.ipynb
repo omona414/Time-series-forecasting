{
 "cells": [
  {
   "cell_type": "code",
   "execution_count": 1,
   "id": "collected-present",
   "metadata": {},
   "outputs": [],
   "source": [
    "import torch\n",
    "import torch.nn as nn\n",
    "\n",
    "import numpy as np\n",
    "import pandas as pd\n",
    "import matplotlib.pyplot as plt"
   ]
  },
  {
   "cell_type": "code",
   "execution_count": 2,
   "id": "vital-intranet",
   "metadata": {},
   "outputs": [],
   "source": [
    "def MAPE(y_true, y_pred): \n",
    "    return np.mean(np.abs((y_true - y_pred) / y_true)) * 100"
   ]
  },
  {
   "cell_type": "code",
   "execution_count": 3,
   "id": "exact-wilderness",
   "metadata": {},
   "outputs": [
    {
     "data": {
      "text/html": [
       "<div>\n",
       "<style scoped>\n",
       "    .dataframe tbody tr th:only-of-type {\n",
       "        vertical-align: middle;\n",
       "    }\n",
       "\n",
       "    .dataframe tbody tr th {\n",
       "        vertical-align: top;\n",
       "    }\n",
       "\n",
       "    .dataframe thead th {\n",
       "        text-align: right;\n",
       "    }\n",
       "</style>\n",
       "<table border=\"1\" class=\"dataframe\">\n",
       "  <thead>\n",
       "    <tr style=\"text-align: right;\">\n",
       "      <th></th>\n",
       "      <th>MeasuredDate</th>\n",
       "      <th>CellNo</th>\n",
       "      <th>Resistance</th>\n",
       "      <th>Volt</th>\n",
       "      <th>Temp</th>\n",
       "    </tr>\n",
       "  </thead>\n",
       "  <tbody>\n",
       "    <tr>\n",
       "      <th>0</th>\n",
       "      <td>2011.3.7 6:27</td>\n",
       "      <td>1</td>\n",
       "      <td>0.259</td>\n",
       "      <td>2.23</td>\n",
       "      <td>-20</td>\n",
       "    </tr>\n",
       "    <tr>\n",
       "      <th>1</th>\n",
       "      <td>2011.3.7 18:29</td>\n",
       "      <td>1</td>\n",
       "      <td>0.260</td>\n",
       "      <td>2.23</td>\n",
       "      <td>-20</td>\n",
       "    </tr>\n",
       "    <tr>\n",
       "      <th>2</th>\n",
       "      <td>2011.3.8 6:29</td>\n",
       "      <td>1</td>\n",
       "      <td>0.259</td>\n",
       "      <td>2.23</td>\n",
       "      <td>-20</td>\n",
       "    </tr>\n",
       "    <tr>\n",
       "      <th>3</th>\n",
       "      <td>2011.3.8 18:29</td>\n",
       "      <td>1</td>\n",
       "      <td>0.259</td>\n",
       "      <td>2.23</td>\n",
       "      <td>-20</td>\n",
       "    </tr>\n",
       "    <tr>\n",
       "      <th>4</th>\n",
       "      <td>2011.3.9 6:29</td>\n",
       "      <td>1</td>\n",
       "      <td>0.259</td>\n",
       "      <td>2.23</td>\n",
       "      <td>-20</td>\n",
       "    </tr>\n",
       "    <tr>\n",
       "      <th>...</th>\n",
       "      <td>...</td>\n",
       "      <td>...</td>\n",
       "      <td>...</td>\n",
       "      <td>...</td>\n",
       "      <td>...</td>\n",
       "    </tr>\n",
       "    <tr>\n",
       "      <th>254</th>\n",
       "      <td>2011.8.30 5:28</td>\n",
       "      <td>1</td>\n",
       "      <td>0.301</td>\n",
       "      <td>2.23</td>\n",
       "      <td>-20</td>\n",
       "    </tr>\n",
       "    <tr>\n",
       "      <th>255</th>\n",
       "      <td>2011.8.30 17:28</td>\n",
       "      <td>1</td>\n",
       "      <td>0.301</td>\n",
       "      <td>2.23</td>\n",
       "      <td>-20</td>\n",
       "    </tr>\n",
       "    <tr>\n",
       "      <th>256</th>\n",
       "      <td>2011.8.31 5:28</td>\n",
       "      <td>1</td>\n",
       "      <td>0.302</td>\n",
       "      <td>2.23</td>\n",
       "      <td>-20</td>\n",
       "    </tr>\n",
       "    <tr>\n",
       "      <th>257</th>\n",
       "      <td>2011.8.31 16:09</td>\n",
       "      <td>1</td>\n",
       "      <td>0.300</td>\n",
       "      <td>2.23</td>\n",
       "      <td>-20</td>\n",
       "    </tr>\n",
       "    <tr>\n",
       "      <th>258</th>\n",
       "      <td>2011.8.31 16:12</td>\n",
       "      <td>1</td>\n",
       "      <td>0.296</td>\n",
       "      <td>2.23</td>\n",
       "      <td>-20</td>\n",
       "    </tr>\n",
       "  </tbody>\n",
       "</table>\n",
       "<p>259 rows × 5 columns</p>\n",
       "</div>"
      ],
      "text/plain": [
       "        MeasuredDate  CellNo  Resistance  Volt  Temp\n",
       "0      2011.3.7 6:27       1       0.259  2.23   -20\n",
       "1     2011.3.7 18:29       1       0.260  2.23   -20\n",
       "2      2011.3.8 6:29       1       0.259  2.23   -20\n",
       "3     2011.3.8 18:29       1       0.259  2.23   -20\n",
       "4      2011.3.9 6:29       1       0.259  2.23   -20\n",
       "..               ...     ...         ...   ...   ...\n",
       "254   2011.8.30 5:28       1       0.301  2.23   -20\n",
       "255  2011.8.30 17:28       1       0.301  2.23   -20\n",
       "256   2011.8.31 5:28       1       0.302  2.23   -20\n",
       "257  2011.8.31 16:09       1       0.300  2.23   -20\n",
       "258  2011.8.31 16:12       1       0.296  2.23   -20\n",
       "\n",
       "[259 rows x 5 columns]"
      ]
     },
     "execution_count": 3,
     "metadata": {},
     "output_type": "execute_result"
    }
   ],
   "source": [
    "df = pd.read_csv('trainset/J0003_0024_0222_20110307012737_cell_1.csv', encoding='utf8')\n",
    "df"
   ]
  },
  {
   "cell_type": "code",
   "execution_count": 4,
   "id": "behavioral-running",
   "metadata": {},
   "outputs": [
    {
     "data": {
      "text/plain": [
       "0      0.259\n",
       "1      0.260\n",
       "2      0.259\n",
       "3      0.259\n",
       "4      0.259\n",
       "       ...  \n",
       "254    0.301\n",
       "255    0.301\n",
       "256    0.302\n",
       "257    0.300\n",
       "258    0.296\n",
       "Name: Resistance, Length: 259, dtype: float64"
      ]
     },
     "execution_count": 4,
     "metadata": {},
     "output_type": "execute_result"
    }
   ],
   "source": [
    "df = df['Resistance']\n",
    "df"
   ]
  },
  {
   "cell_type": "code",
   "execution_count": 5,
   "id": "welsh-reality",
   "metadata": {},
   "outputs": [],
   "source": [
    "test_data_size = 30\n",
    "train_data = df[:-test_data_size]\n",
    "test_data = df[-test_data_size:]"
   ]
  },
  {
   "cell_type": "code",
   "execution_count": 6,
   "id": "collect-peeing",
   "metadata": {},
   "outputs": [
    {
     "data": {
      "text/html": [
       "<div>\n",
       "<style scoped>\n",
       "    .dataframe tbody tr th:only-of-type {\n",
       "        vertical-align: middle;\n",
       "    }\n",
       "\n",
       "    .dataframe tbody tr th {\n",
       "        vertical-align: top;\n",
       "    }\n",
       "\n",
       "    .dataframe thead th {\n",
       "        text-align: right;\n",
       "    }\n",
       "</style>\n",
       "<table border=\"1\" class=\"dataframe\">\n",
       "  <thead>\n",
       "    <tr style=\"text-align: right;\">\n",
       "      <th></th>\n",
       "      <th>Resistance</th>\n",
       "    </tr>\n",
       "  </thead>\n",
       "  <tbody>\n",
       "    <tr>\n",
       "      <th>0</th>\n",
       "      <td>0.259</td>\n",
       "    </tr>\n",
       "    <tr>\n",
       "      <th>1</th>\n",
       "      <td>0.260</td>\n",
       "    </tr>\n",
       "    <tr>\n",
       "      <th>2</th>\n",
       "      <td>0.259</td>\n",
       "    </tr>\n",
       "    <tr>\n",
       "      <th>3</th>\n",
       "      <td>0.259</td>\n",
       "    </tr>\n",
       "    <tr>\n",
       "      <th>4</th>\n",
       "      <td>0.259</td>\n",
       "    </tr>\n",
       "    <tr>\n",
       "      <th>...</th>\n",
       "      <td>...</td>\n",
       "    </tr>\n",
       "    <tr>\n",
       "      <th>224</th>\n",
       "      <td>0.294</td>\n",
       "    </tr>\n",
       "    <tr>\n",
       "      <th>225</th>\n",
       "      <td>0.294</td>\n",
       "    </tr>\n",
       "    <tr>\n",
       "      <th>226</th>\n",
       "      <td>0.295</td>\n",
       "    </tr>\n",
       "    <tr>\n",
       "      <th>227</th>\n",
       "      <td>0.295</td>\n",
       "    </tr>\n",
       "    <tr>\n",
       "      <th>228</th>\n",
       "      <td>0.295</td>\n",
       "    </tr>\n",
       "  </tbody>\n",
       "</table>\n",
       "<p>229 rows × 1 columns</p>\n",
       "</div>"
      ],
      "text/plain": [
       "     Resistance\n",
       "0         0.259\n",
       "1         0.260\n",
       "2         0.259\n",
       "3         0.259\n",
       "4         0.259\n",
       "..          ...\n",
       "224       0.294\n",
       "225       0.294\n",
       "226       0.295\n",
       "227       0.295\n",
       "228       0.295\n",
       "\n",
       "[229 rows x 1 columns]"
      ]
     },
     "execution_count": 6,
     "metadata": {},
     "output_type": "execute_result"
    }
   ],
   "source": [
    "from sklearn.preprocessing import MinMaxScaler\n",
    "\n",
    "scaler = MinMaxScaler()\n",
    "scale_cols = ['Resistance']\n",
    "train_data = pd.DataFrame(train_data)\n",
    "train_data.columns = scale_cols\n",
    "\n",
    "train_data"
   ]
  },
  {
   "cell_type": "code",
   "execution_count": 7,
   "id": "virgin-singing",
   "metadata": {},
   "outputs": [],
   "source": [
    "train_data_normalized = scaler.fit_transform(train_data[scale_cols])"
   ]
  },
  {
   "cell_type": "code",
   "execution_count": 8,
   "id": "italic-northwest",
   "metadata": {},
   "outputs": [],
   "source": [
    "train_data_normalized = torch.FloatTensor(train_data_normalized).view(-1)"
   ]
  },
  {
   "cell_type": "code",
   "execution_count": 9,
   "id": "satisfied-pipeline",
   "metadata": {},
   "outputs": [],
   "source": [
    "train_window = 20"
   ]
  },
  {
   "cell_type": "code",
   "execution_count": 10,
   "id": "driven-broadway",
   "metadata": {},
   "outputs": [],
   "source": [
    "def create_inout_sequences(input_data, tw):\n",
    "    inout_seq = []\n",
    "    L = len(input_data)\n",
    "    for i in range(L-tw):\n",
    "        train_seq = input_data[i:i+tw]\n",
    "        train_label = input_data[i+tw:i+tw+1]\n",
    "        inout_seq.append((train_seq, train_label))\n",
    "    return inout_seq"
   ]
  },
  {
   "cell_type": "code",
   "execution_count": 11,
   "id": "actual-zimbabwe",
   "metadata": {},
   "outputs": [],
   "source": [
    "train_inout_seq = create_inout_sequences(train_data_normalized, train_window)"
   ]
  },
  {
   "cell_type": "code",
   "execution_count": 12,
   "id": "greatest-crisis",
   "metadata": {},
   "outputs": [
    {
     "data": {
      "text/plain": [
       "tensor([0.0270, 0.0541, 0.0270, 0.0270, 0.0270, 0.0270, 0.0541, 0.0541, 0.0811,\n",
       "        0.0541, 0.0541, 0.0541, 0.0811, 0.0541, 0.0541, 0.0000, 0.0000, 0.0000,\n",
       "        0.0270, 0.0811, 0.0541, 0.0541, 0.1081, 0.1081, 0.1081])"
      ]
     },
     "execution_count": 12,
     "metadata": {},
     "output_type": "execute_result"
    }
   ],
   "source": [
    "train_data_normalized[:25]"
   ]
  },
  {
   "cell_type": "code",
   "execution_count": 13,
   "id": "dominant-compression",
   "metadata": {},
   "outputs": [
    {
     "data": {
      "text/plain": [
       "[(tensor([0.0270, 0.0541, 0.0270, 0.0270, 0.0270, 0.0270, 0.0541, 0.0541, 0.0811,\n",
       "          0.0541, 0.0541, 0.0541, 0.0811, 0.0541, 0.0541, 0.0000, 0.0000, 0.0000,\n",
       "          0.0270, 0.0811]),\n",
       "  tensor([0.0541])),\n",
       " (tensor([0.0541, 0.0270, 0.0270, 0.0270, 0.0270, 0.0541, 0.0541, 0.0811, 0.0541,\n",
       "          0.0541, 0.0541, 0.0811, 0.0541, 0.0541, 0.0000, 0.0000, 0.0000, 0.0270,\n",
       "          0.0811, 0.0541]),\n",
       "  tensor([0.0541])),\n",
       " (tensor([0.0270, 0.0270, 0.0270, 0.0270, 0.0541, 0.0541, 0.0811, 0.0541, 0.0541,\n",
       "          0.0541, 0.0811, 0.0541, 0.0541, 0.0000, 0.0000, 0.0000, 0.0270, 0.0811,\n",
       "          0.0541, 0.0541]),\n",
       "  tensor([0.1081])),\n",
       " (tensor([0.0270, 0.0270, 0.0270, 0.0541, 0.0541, 0.0811, 0.0541, 0.0541, 0.0541,\n",
       "          0.0811, 0.0541, 0.0541, 0.0000, 0.0000, 0.0000, 0.0270, 0.0811, 0.0541,\n",
       "          0.0541, 0.1081]),\n",
       "  tensor([0.1081])),\n",
       " (tensor([0.0270, 0.0270, 0.0541, 0.0541, 0.0811, 0.0541, 0.0541, 0.0541, 0.0811,\n",
       "          0.0541, 0.0541, 0.0000, 0.0000, 0.0000, 0.0270, 0.0811, 0.0541, 0.0541,\n",
       "          0.1081, 0.1081]),\n",
       "  tensor([0.1081]))]"
      ]
     },
     "execution_count": 13,
     "metadata": {},
     "output_type": "execute_result"
    }
   ],
   "source": [
    "train_inout_seq[:5]"
   ]
  },
  {
   "cell_type": "code",
   "execution_count": 14,
   "id": "unlikely-webcam",
   "metadata": {},
   "outputs": [],
   "source": [
    "class GRU(nn.Module):\n",
    "    def __init__(self, input_size=1, output_size=1):\n",
    "        super(GRU, self).__init__()\n",
    "        self.hidden_layer_size = 128\n",
    "        \n",
    "        self.gru = nn.GRU(1, 128)\n",
    "        self.lin1 = nn.Linear(128,64)\n",
    "        self.lin2 = nn.Linear(64,32)\n",
    "        self.lin3 = nn.Linear(32,1)\n",
    "        \n",
    "        self.hidden_cell = (torch.zeros(1, 1, self.hidden_layer_size))\n",
    "\n",
    "    def forward(self, input_seq):\n",
    "        gru_out, self.hidden_cell = self.gru(input_seq.view(len(input_seq), 1, -1), self.hidden_cell)\n",
    "        pred1 = self.lin1(gru_out.view(len(input_seq), -1))\n",
    "        pred2 = self.lin2(pred1.view(len(input_seq), -1))\n",
    "        predictions = self.lin3(pred2.view(len(input_seq), -1))\n",
    "        return predictions[-1]"
   ]
  },
  {
   "cell_type": "code",
   "execution_count": 15,
   "id": "guided-spirit",
   "metadata": {
    "scrolled": true
   },
   "outputs": [
    {
     "name": "stdout",
     "output_type": "stream",
     "text": [
      "Using cuda device\n",
      "GRU(\n",
      "  (gru): GRU(1, 128)\n",
      "  (lin1): Linear(in_features=128, out_features=64, bias=True)\n",
      "  (lin2): Linear(in_features=64, out_features=32, bias=True)\n",
      "  (lin3): Linear(in_features=32, out_features=1, bias=True)\n",
      ")\n"
     ]
    }
   ],
   "source": [
    "device = 'cuda' if torch.cuda.is_available() else 'cpu'\n",
    "print('Using {} device'.format(device))\n",
    "model = GRU().to(device)\n",
    "print(model)"
   ]
  },
  {
   "cell_type": "code",
   "execution_count": 16,
   "id": "tamil-season",
   "metadata": {},
   "outputs": [],
   "source": [
    "model = GRU()\n",
    "loss_function = nn.MSELoss()\n",
    "optimizer = torch.optim.Adam(model.parameters(), lr=0.001)"
   ]
  },
  {
   "cell_type": "code",
   "execution_count": 17,
   "id": "upper-faculty",
   "metadata": {},
   "outputs": [
    {
     "name": "stdout",
     "output_type": "stream",
     "text": [
      "epoch:   1 loss: 0.00015863\n",
      "epoch:  11 loss: 0.00000088\n",
      "epoch:  21 loss: 0.00022575\n",
      "epoch:  31 loss: 0.00011631\n",
      "epoch:  41 loss: 0.00010295\n",
      "epoch:  51 loss: 0.00011143\n",
      "epoch:  61 loss: 0.00017789\n",
      "epoch:  71 loss: 0.00075944\n",
      "epoch:  81 loss: 0.00046294\n",
      "epoch:  91 loss: 0.00005070\n",
      "epoch:  99 loss: 0.0000145056\n"
     ]
    }
   ],
   "source": [
    "epochs = 100\n",
    "\n",
    "for i in range(epochs):\n",
    "    for seq, labels in train_inout_seq:\n",
    "        optimizer.zero_grad()\n",
    "        model.hidden_cell = (torch.zeros(1, 1, model.hidden_layer_size))\n",
    "        \n",
    "        y_pred = model(seq)\n",
    "\n",
    "        single_loss = loss_function(y_pred, labels)\n",
    "        single_loss.backward()\n",
    "        optimizer.step()\n",
    "\n",
    "    if i%10 == 1:\n",
    "        print(f'epoch: {i:3} loss: {single_loss.item():10.8f}')\n",
    "\n",
    "print(f'epoch: {i:3} loss: {single_loss.item():10.10f}')"
   ]
  },
  {
   "cell_type": "code",
   "execution_count": 18,
   "id": "discrete-clinic",
   "metadata": {},
   "outputs": [
    {
     "name": "stdout",
     "output_type": "stream",
     "text": [
      "208\n",
      "229\n",
      "[0.027027027681469917, 0.054054055362939835, 0.027027027681469917, 0.027027027681469917, 0.027027027681469917, 0.027027027681469917, 0.054054055362939835, 0.054054055362939835, 0.0810810774564743, 0.054054055362939835, 0.054054055362939835, 0.054054055362939835, 0.0810810774564743, 0.054054055362939835, 0.054054055362939835, 0.0, 0.0, 0.0, 0.027027027681469917, 0.0810810774564743]\n"
     ]
    }
   ],
   "source": [
    "fut_pred = len(train_data_normalized) - train_window - 1\n",
    "print(fut_pred)\n",
    "print(len(train_data_normalized))\n",
    "test_inputs = train_data_normalized[:train_window].tolist()\n",
    "print(test_inputs)"
   ]
  },
  {
   "cell_type": "code",
   "execution_count": 19,
   "id": "satisfied-treaty",
   "metadata": {},
   "outputs": [
    {
     "name": "stdout",
     "output_type": "stream",
     "text": [
      "228\n"
     ]
    }
   ],
   "source": [
    "model.eval()\n",
    "\n",
    "for i in range(fut_pred):\n",
    "    seq = torch.FloatTensor(train_data_normalized[i:i+(train_window)].tolist())\n",
    "    with torch.no_grad():\n",
    "        model.hidden = (torch.zeros(1, 1, model.hidden_layer_size))\n",
    "        test_inputs.append(model(seq).item())\n",
    "        \n",
    "print(len(test_inputs))"
   ]
  },
  {
   "cell_type": "code",
   "execution_count": 20,
   "id": "piano-warner",
   "metadata": {},
   "outputs": [
    {
     "data": {
      "text/plain": [
       "[0.027027027681469917,\n",
       " 0.054054055362939835,\n",
       " 0.027027027681469917,\n",
       " 0.027027027681469917,\n",
       " 0.027027027681469917,\n",
       " 0.027027027681469917,\n",
       " 0.054054055362939835,\n",
       " 0.054054055362939835,\n",
       " 0.0810810774564743,\n",
       " 0.054054055362939835,\n",
       " 0.054054055362939835,\n",
       " 0.054054055362939835,\n",
       " 0.0810810774564743,\n",
       " 0.054054055362939835,\n",
       " 0.054054055362939835,\n",
       " 0.0,\n",
       " 0.0,\n",
       " 0.0,\n",
       " 0.027027027681469917,\n",
       " 0.0810810774564743]"
      ]
     },
     "execution_count": 20,
     "metadata": {},
     "output_type": "execute_result"
    }
   ],
   "source": [
    "test_inputs[:20]"
   ]
  },
  {
   "cell_type": "code",
   "execution_count": 21,
   "id": "cardiac-pencil",
   "metadata": {},
   "outputs": [
    {
     "name": "stdout",
     "output_type": "stream",
     "text": [
      "[[0.2867511 ]\n",
      " [0.28654295]\n",
      " [0.28599847]\n",
      " [0.2862453 ]\n",
      " [0.28572106]\n",
      " [0.28500746]\n",
      " [0.28424548]\n",
      " [0.28293636]\n",
      " [0.28080166]\n",
      " [0.28045005]\n",
      " [0.27833876]\n",
      " [0.27201836]\n",
      " [0.26335952]\n",
      " [0.26244979]\n",
      " [0.26199385]\n",
      " [0.26070811]\n",
      " [0.26170771]\n",
      " [0.26224937]\n",
      " [0.26196659]\n",
      " [0.26177725]\n",
      " [0.26268261]\n",
      " [0.26200522]\n",
      " [0.26443765]\n",
      " [0.26463884]\n",
      " [0.26444491]\n",
      " [0.26447194]\n",
      " [0.26475647]\n",
      " [0.26575447]\n",
      " [0.26566479]\n",
      " [0.26637188]\n",
      " [0.26703473]\n",
      " [0.26705376]\n",
      " [0.26717204]\n",
      " [0.26653821]\n",
      " [0.2660502 ]\n",
      " [0.26629266]\n",
      " [0.26785372]\n",
      " [0.26837321]\n",
      " [0.26816093]\n",
      " [0.26738192]\n",
      " [0.26760123]\n",
      " [0.26926127]\n",
      " [0.26921776]\n",
      " [0.26849245]\n",
      " [0.26782021]\n",
      " [0.26799607]\n",
      " [0.26889134]\n",
      " [0.26819556]\n",
      " [0.26896346]\n",
      " [0.26947808]\n",
      " [0.26869875]\n",
      " [0.26881188]\n",
      " [0.26950677]\n",
      " [0.26878632]\n",
      " [0.26893886]\n",
      " [0.26821231]\n",
      " [0.26904984]\n",
      " [0.26899512]\n",
      " [0.27042449]\n",
      " [0.27015429]\n",
      " [0.26943499]\n",
      " [0.26948641]\n",
      " [0.27024567]\n",
      " [0.27030166]\n",
      " [0.27037383]\n",
      " [0.26965128]\n",
      " [0.27045166]\n",
      " [0.27043292]\n",
      " [0.27055238]\n",
      " [0.27055773]\n",
      " [0.27124688]\n",
      " [0.27049614]\n",
      " [0.27133013]\n",
      " [0.27122517]\n",
      " [0.27130194]\n",
      " [0.27200918]\n",
      " [0.27261152]\n",
      " [0.27256308]\n",
      " [0.27187736]\n",
      " [0.2719488 ]\n",
      " [0.27132716]\n",
      " [0.27224486]\n",
      " [0.27294863]\n",
      " [0.27365192]\n",
      " [0.27424791]\n",
      " [0.2734053 ]\n",
      " [0.27349278]\n",
      " [0.27343518]\n",
      " [0.27290325]\n",
      " [0.27381511]\n",
      " [0.27444423]\n",
      " [0.27453071]\n",
      " [0.27528053]\n",
      " [0.27511295]\n",
      " [0.27452766]\n",
      " [0.27464697]\n",
      " [0.27460145]\n",
      " [0.27537312]\n",
      " [0.27548359]\n",
      " [0.2756094 ]\n",
      " [0.27632122]\n",
      " [0.27688499]\n",
      " [0.27628145]\n",
      " [0.27640736]\n",
      " [0.2761792 ]\n",
      " [0.27625465]\n",
      " [0.27646552]\n",
      " [0.27773906]\n",
      " [0.27773754]\n",
      " [0.27796058]\n",
      " [0.27844554]\n",
      " [0.27818189]\n",
      " [0.27771714]\n",
      " [0.2783122 ]\n",
      " [0.27814174]\n",
      " [0.27906786]\n",
      " [0.27855931]\n",
      " [0.27866333]\n",
      " [0.27823596]\n",
      " [0.27899072]\n",
      " [0.2792233 ]\n",
      " [0.27884503]\n",
      " [0.27923871]\n",
      " [0.27983394]\n",
      " [0.28064226]\n",
      " [0.28031865]\n",
      " [0.28049515]\n",
      " [0.28087591]\n",
      " [0.28016312]\n",
      " [0.28109818]\n",
      " [0.2818769 ]\n",
      " [0.28096126]\n",
      " [0.28198521]\n",
      " [0.28112915]\n",
      " [0.28102252]\n",
      " [0.28066286]\n",
      " [0.28078869]\n",
      " [0.28045512]\n",
      " [0.28085706]\n",
      " [0.28149712]\n",
      " [0.28211101]\n",
      " [0.28299314]\n",
      " [0.28226843]\n",
      " [0.28292824]\n",
      " [0.28256068]\n",
      " [0.28196498]\n",
      " [0.2825838 ]\n",
      " [0.28274471]\n",
      " [0.28260691]\n",
      " [0.2832713 ]\n",
      " [0.2835044 ]\n",
      " [0.28373338]\n",
      " [0.28407887]\n",
      " [0.28377239]\n",
      " [0.28447678]\n",
      " [0.28440147]\n",
      " [0.28378459]\n",
      " [0.28467325]\n",
      " [0.28373922]\n",
      " [0.28383022]\n",
      " [0.28470427]\n",
      " [0.28484359]\n",
      " [0.28605154]\n",
      " [0.28559155]\n",
      " [0.28516116]\n",
      " [0.28526522]\n",
      " [0.28412034]\n",
      " [0.28519741]\n",
      " [0.28555505]\n",
      " [0.28547605]\n",
      " [0.28594383]\n",
      " [0.28570842]\n",
      " [0.28529531]\n",
      " [0.28613056]\n",
      " [0.28605109]\n",
      " [0.28573054]\n",
      " [0.28656927]\n",
      " [0.28638809]\n",
      " [0.28723326]\n",
      " [0.28718768]\n",
      " [0.28709146]\n",
      " [0.28681061]\n",
      " [0.28699732]\n",
      " [0.28666284]\n",
      " [0.28772682]\n",
      " [0.28879295]\n",
      " [0.28879775]\n",
      " [0.28865723]\n",
      " [0.28778825]\n",
      " [0.28838155]\n",
      " [0.28910039]\n",
      " [0.28946958]\n",
      " [0.29052093]\n",
      " [0.29109595]\n",
      " [0.29061051]\n",
      " [0.29118663]\n",
      " [0.29078212]\n",
      " [0.29105435]\n",
      " [0.29125246]\n",
      " [0.29087528]\n",
      " [0.2912282 ]\n",
      " [0.29152069]\n",
      " [0.29085451]\n",
      " [0.29165074]\n",
      " [0.29111357]\n",
      " [0.29063124]\n",
      " [0.29078891]\n",
      " [0.29069905]]\n"
     ]
    }
   ],
   "source": [
    "actual_predictions = scaler.inverse_transform(np.array(test_inputs[train_window:]).reshape(-1,1))\n",
    "print(actual_predictions)"
   ]
  },
  {
   "cell_type": "code",
   "execution_count": 22,
   "id": "recognized-effectiveness",
   "metadata": {},
   "outputs": [
    {
     "data": {
      "text/plain": [
       "[<matplotlib.lines.Line2D at 0x1f912257880>]"
      ]
     },
     "execution_count": 22,
     "metadata": {},
     "output_type": "execute_result"
    },
    {
     "data": {
      "image/png": "[encoded data removed]",
      "text/plain": [
       "<Figure size 432x288 with 1 Axes>"
      ]
     },
     "metadata": {
      "needs_background": "light"
     },
     "output_type": "display_data"
    }
   ],
   "source": [
    "plt.plot(train_data)\n",
    "plt.plot(range(train_window,train_window+fut_pred),actual_predictions[:,0])"
   ]
  },
  {
   "cell_type": "code",
   "execution_count": 23,
   "id": "vocational-third",
   "metadata": {},
   "outputs": [
    {
     "name": "stdout",
     "output_type": "stream",
     "text": [
      "(208, 1)\n",
      "(208, 1)\n",
      "Resistance    1.025454\n",
      "dtype: float64\n"
     ]
    }
   ],
   "source": [
    "print(train_data[train_window:-1].shape)\n",
    "print(actual_predictions.shape)\n",
    "print(MAPE(train_data[train_window:-1], actual_predictions[:]))"
   ]
  },
  {
   "cell_type": "code",
   "execution_count": 24,
   "id": "compressed-neighbor",
   "metadata": {},
   "outputs": [
    {
     "name": "stdout",
     "output_type": "stream",
     "text": [
      "258\n",
      "237\n",
      "Resistance    0.513361\n",
      "dtype: float64\n"
     ]
    },
    {
     "data": {
      "text/plain": [
       "[<matplotlib.lines.Line2D at 0x1f91ec718b0>]"
      ]
     },
     "execution_count": 24,
     "metadata": {},
     "output_type": "execute_result"
    },
    {
     "data": {
      "image/png": "[encoded data removed]",
      "text/plain": [
       "<Figure size 432x288 with 1 Axes>"
      ]
     },
     "metadata": {
      "needs_background": "light"
     },
     "output_type": "display_data"
    }
   ],
   "source": [
    "test_df = pd.read_csv('testset/J0003_0024_0221_20110307012732_cell_03.csv', encoding='utf8')\n",
    "\n",
    "test_df = test_df['Resistance']\n",
    "test_data = test_df\n",
    "test_data = pd.DataFrame(test_data)\n",
    "test_data.columns = scale_cols\n",
    "test_data_normalized = scaler.fit_transform(test_data[scale_cols])\n",
    "test_data_normalized = torch.FloatTensor(test_data_normalized).view(-1)\n",
    "test_inputs = test_data_normalized[:train_window].tolist()\n",
    "fut_pred = len(test_data_normalized) - train_window - 1\n",
    "print(len(test_data_normalized))\n",
    "print(fut_pred)\n",
    "\n",
    "for i in range(fut_pred):\n",
    "    seq = torch.FloatTensor(test_data_normalized[i:i+(train_window)].tolist())\n",
    "    with torch.no_grad():\n",
    "        model.hidden = (torch.zeros(1, 1, model.hidden_layer_size))\n",
    "        test_inputs.append(model(seq).item())\n",
    "\n",
    "actual_predictions = scaler.inverse_transform(np.array(test_inputs[train_window:]).reshape(-1,1))\n",
    "\n",
    "print(MAPE(test_data[train_window:-1], actual_predictions[:]))\n",
    "\n",
    "plt.plot(test_df)\n",
    "plt.plot(range(train_window, train_window+fut_pred), actual_predictions[:,0])"
   ]
  },
  {
   "cell_type": "code",
   "execution_count": 25,
   "id": "communist-deployment",
   "metadata": {},
   "outputs": [
    {
     "name": "stdout",
     "output_type": "stream",
     "text": [
      "256\n",
      "235\n",
      "Resistance    2.982511\n",
      "dtype: float64\n"
     ]
    },
    {
     "data": {
      "text/plain": [
       "[<matplotlib.lines.Line2D at 0x1f91eccf400>]"
      ]
     },
     "execution_count": 25,
     "metadata": {},
     "output_type": "execute_result"
    },
    {
     "data": {
      "image/png": "[encoded data removed]",
      "text/plain": [
       "<Figure size 432x288 with 1 Axes>"
      ]
     },
     "metadata": {
      "needs_background": "light"
     },
     "output_type": "display_data"
    }
   ],
   "source": [
    "test_df = pd.read_csv('testset/J0003_0024_0221_20110307012732_cell_06.csv', encoding='utf8')\n",
    "\n",
    "test_df = test_df['Resistance']\n",
    "test_data = test_df\n",
    "test_data = pd.DataFrame(test_data)\n",
    "test_data.columns = scale_cols\n",
    "test_data_normalized = scaler.fit_transform(test_data[scale_cols])\n",
    "test_data_normalized = torch.FloatTensor(test_data_normalized).view(-1)\n",
    "test_inputs = test_data_normalized[:train_window].tolist()\n",
    "fut_pred = len(test_data_normalized) - train_window - 1\n",
    "print(len(test_data_normalized))\n",
    "print(fut_pred)\n",
    "\n",
    "for i in range(fut_pred):\n",
    "    seq = torch.FloatTensor(test_data_normalized[i:i+(train_window)].tolist())\n",
    "    with torch.no_grad():\n",
    "        model.hidden = (torch.zeros(1, 1, model.hidden_layer_size))\n",
    "        test_inputs.append(model(seq).item())\n",
    "\n",
    "actual_predictions = scaler.inverse_transform(np.array(test_inputs[train_window:]).reshape(-1,1))\n",
    "\n",
    "print(MAPE(test_data[train_window:-1], actual_predictions[:]))\n",
    "\n",
    "plt.plot(test_df)\n",
    "plt.plot(range(train_window, train_window+fut_pred), actual_predictions[:,0])"
   ]
  },
  {
   "cell_type": "code",
   "execution_count": 26,
   "id": "reliable-helmet",
   "metadata": {
    "scrolled": false
   },
   "outputs": [
    {
     "name": "stdout",
     "output_type": "stream",
     "text": [
      "255\n",
      "234\n",
      "Resistance    5.488533\n",
      "dtype: float64\n"
     ]
    },
    {
     "data": {
      "text/plain": [
       "[<matplotlib.lines.Line2D at 0x1f91ed018e0>]"
      ]
     },
     "execution_count": 26,
     "metadata": {},
     "output_type": "execute_result"
    },
    {
     "data": {
      "image/png": "[encoded data removed]",
      "text/plain": [
       "<Figure size 432x288 with 1 Axes>"
      ]
     },
     "metadata": {
      "needs_background": "light"
     },
     "output_type": "display_data"
    }
   ],
   "source": [
    "test_df = pd.read_csv('testset/J0003_0024_0221_20110307012732_cell_7.csv', encoding='utf8')\n",
    "\n",
    "test_df = test_df['Resistance']\n",
    "test_data = test_df\n",
    "test_data = pd.DataFrame(test_data)\n",
    "test_data.columns = scale_cols\n",
    "test_data_normalized = scaler.fit_transform(test_data[scale_cols])\n",
    "test_data_normalized = torch.FloatTensor(test_data_normalized).view(-1)\n",
    "test_inputs = test_data_normalized[:train_window].tolist()\n",
    "fut_pred = len(test_data_normalized) - train_window - 1\n",
    "print(len(test_data_normalized))\n",
    "print(fut_pred)\n",
    "\n",
    "for i in range(fut_pred):\n",
    "    seq = torch.FloatTensor(test_data_normalized[i:i+(train_window)].tolist())\n",
    "    with torch.no_grad():\n",
    "        model.hidden = (torch.zeros(1, 1, model.hidden_layer_size))\n",
    "        test_inputs.append(model(seq).item())\n",
    "\n",
    "actual_predictions = scaler.inverse_transform(np.array(test_inputs[train_window:]).reshape(-1,1))\n",
    "\n",
    "print(MAPE(test_data[train_window:-1], actual_predictions[:]))\n",
    "\n",
    "plt.plot(test_df)\n",
    "plt.plot(range(train_window, train_window+fut_pred), actual_predictions[:,0])"
   ]
  },
  {
   "cell_type": "code",
   "execution_count": 27,
   "id": "central-operator",
   "metadata": {},
   "outputs": [
    {
     "name": "stdout",
     "output_type": "stream",
     "text": [
      "254\n",
      "233\n",
      "Resistance    0.74897\n",
      "dtype: float64\n"
     ]
    },
    {
     "data": {
      "text/plain": [
       "[<matplotlib.lines.Line2D at 0x1f927586760>]"
      ]
     },
     "execution_count": 27,
     "metadata": {},
     "output_type": "execute_result"
    },
    {
     "data": {
      "image/png": "[encoded data removed]",
      "text/plain": [
       "<Figure size 432x288 with 1 Axes>"
      ]
     },
     "metadata": {
      "needs_background": "light"
     },
     "output_type": "display_data"
    }
   ],
   "source": [
    "test_df = pd.read_csv('testset/J0003_0024_0221_20110307012732_cell_9.csv', encoding='utf8')\n",
    "\n",
    "test_df = test_df['Resistance']\n",
    "test_data = test_df\n",
    "test_data = pd.DataFrame(test_data)\n",
    "test_data.columns = scale_cols\n",
    "test_data_normalized = scaler.fit_transform(test_data[scale_cols])\n",
    "test_data_normalized = torch.FloatTensor(test_data_normalized).view(-1)\n",
    "test_inputs = test_data_normalized[:train_window].tolist()\n",
    "fut_pred = len(test_data_normalized) - train_window - 1\n",
    "print(len(test_data_normalized))\n",
    "print(fut_pred)\n",
    "\n",
    "for i in range(fut_pred):\n",
    "    seq = torch.FloatTensor(test_data_normalized[i:i+(train_window)].tolist())\n",
    "    with torch.no_grad():\n",
    "        model.hidden = (torch.zeros(1, 1, model.hidden_layer_size))\n",
    "        test_inputs.append(model(seq).item())\n",
    "\n",
    "actual_predictions = scaler.inverse_transform(np.array(test_inputs[train_window:]).reshape(-1,1))\n",
    "\n",
    "print(MAPE(test_data[train_window:-1], actual_predictions[:]))\n",
    "\n",
    "plt.plot(test_df)\n",
    "plt.plot(range(train_window, train_window+fut_pred), actual_predictions[:,0])"
   ]
  },
  {
   "cell_type": "code",
   "execution_count": 28,
   "id": "positive-segment",
   "metadata": {},
   "outputs": [
    {
     "name": "stdout",
     "output_type": "stream",
     "text": [
      "252\n",
      "231\n",
      "Resistance    2.130739\n",
      "dtype: float64\n"
     ]
    },
    {
     "data": {
      "text/plain": [
       "[<matplotlib.lines.Line2D at 0x1f92d7043a0>]"
      ]
     },
     "execution_count": 28,
     "metadata": {},
     "output_type": "execute_result"
    },
    {
     "data": {
      "image/png": "[encoded data removed]",
      "text/plain": [
       "<Figure size 432x288 with 1 Axes>"
      ]
     },
     "metadata": {
      "needs_background": "light"
     },
     "output_type": "display_data"
    }
   ],
   "source": [
    "test_df = pd.read_csv('testset/J0003_0024_0221_20110307012732_cell_18.csv', encoding='utf8')\n",
    "\n",
    "test_df = test_df['Resistance']\n",
    "test_data = test_df\n",
    "test_data = pd.DataFrame(test_data)\n",
    "test_data.columns = scale_cols\n",
    "test_data_normalized = scaler.fit_transform(test_data[scale_cols])\n",
    "test_data_normalized = torch.FloatTensor(test_data_normalized).view(-1)\n",
    "test_inputs = test_data_normalized[:train_window].tolist()\n",
    "fut_pred = len(test_data_normalized) - train_window - 1\n",
    "print(len(test_data_normalized))\n",
    "print(fut_pred)\n",
    "\n",
    "for i in range(fut_pred):\n",
    "    seq = torch.FloatTensor(test_data_normalized[i:i+(train_window)].tolist())\n",
    "    with torch.no_grad():\n",
    "        model.hidden = (torch.zeros(1, 1, model.hidden_layer_size))\n",
    "        test_inputs.append(model(seq).item())\n",
    "\n",
    "actual_predictions = scaler.inverse_transform(np.array(test_inputs[train_window:]).reshape(-1,1))\n",
    "\n",
    "print(MAPE(test_data[train_window:-1], actual_predictions[:]))\n",
    "\n",
    "plt.plot(test_df)\n",
    "plt.plot(range(train_window, train_window+fut_pred), actual_predictions[:,0])"
   ]
  },
  {
   "cell_type": "code",
   "execution_count": 29,
   "id": "distributed-cradle",
   "metadata": {},
   "outputs": [
    {
     "name": "stdout",
     "output_type": "stream",
     "text": [
      "252\n",
      "231\n",
      "Resistance    0.525907\n",
      "dtype: float64\n"
     ]
    },
    {
     "data": {
      "text/plain": [
       "[<matplotlib.lines.Line2D at 0x1f92d756b20>]"
      ]
     },
     "execution_count": 29,
     "metadata": {},
     "output_type": "execute_result"
    },
    {
     "data": {
      "image/png": "[encoded data removed]",
      "text/plain": [
       "<Figure size 432x288 with 1 Axes>"
      ]
     },
     "metadata": {
      "needs_background": "light"
     },
     "output_type": "display_data"
    }
   ],
   "source": [
    "test_df = pd.read_csv('testset/J0003_0024_0221_20110307012732_cell_19.csv', encoding='utf8')\n",
    "\n",
    "test_df = test_df['Resistance']\n",
    "test_data = test_df\n",
    "test_data = pd.DataFrame(test_data)\n",
    "test_data.columns = scale_cols\n",
    "test_data_normalized = scaler.fit_transform(test_data[scale_cols])\n",
    "test_data_normalized = torch.FloatTensor(test_data_normalized).view(-1)\n",
    "test_inputs = test_data_normalized[:train_window].tolist()\n",
    "fut_pred = len(test_data_normalized) - train_window - 1\n",
    "print(len(test_data_normalized))\n",
    "print(fut_pred)\n",
    "\n",
    "for i in range(fut_pred):\n",
    "    seq = torch.FloatTensor(test_data_normalized[i:i+(train_window)].tolist())\n",
    "    with torch.no_grad():\n",
    "        model.hidden = (torch.zeros(1, 1, model.hidden_layer_size))\n",
    "        test_inputs.append(model(seq).item())\n",
    "\n",
    "actual_predictions = scaler.inverse_transform(np.array(test_inputs[train_window:]).reshape(-1,1))\n",
    "\n",
    "print(MAPE(test_data[train_window:-1], actual_predictions[:]))\n",
    "\n",
    "plt.plot(test_df)\n",
    "plt.plot(range(train_window, train_window+fut_pred), actual_predictions[:,0])"
   ]
  },
  {
   "cell_type": "code",
   "execution_count": 30,
   "id": "accurate-berlin",
   "metadata": {},
   "outputs": [
    {
     "name": "stdout",
     "output_type": "stream",
     "text": [
      "252\n",
      "231\n",
      "Resistance    0.722148\n",
      "dtype: float64\n"
     ]
    },
    {
     "data": {
      "text/plain": [
       "[<matplotlib.lines.Line2D at 0x1f92d7bb6a0>]"
      ]
     },
     "execution_count": 30,
     "metadata": {},
     "output_type": "execute_result"
    },
    {
     "data": {
      "image/png": "[encoded data removed]",
      "text/plain": [
       "<Figure size 432x288 with 1 Axes>"
      ]
     },
     "metadata": {
      "needs_background": "light"
     },
     "output_type": "display_data"
    }
   ],
   "source": [
    "test_df = pd.read_csv('testset/J0003_0024_0221_20110307012732_cell_20.csv', encoding='utf8')\n",
    "\n",
    "test_df = test_df['Resistance']\n",
    "test_data = test_df\n",
    "test_data = pd.DataFrame(test_data)\n",
    "test_data.columns = scale_cols\n",
    "test_data_normalized = scaler.fit_transform(test_data[scale_cols])\n",
    "test_data_normalized = torch.FloatTensor(test_data_normalized).view(-1)\n",
    "test_inputs = test_data_normalized[:train_window].tolist()\n",
    "fut_pred = len(test_data_normalized) - train_window - 1\n",
    "print(len(test_data_normalized))\n",
    "print(fut_pred)\n",
    "\n",
    "for i in range(fut_pred):\n",
    "    seq = torch.FloatTensor(test_data_normalized[i:i+(train_window)].tolist())\n",
    "    with torch.no_grad():\n",
    "        model.hidden = (torch.zeros(1, 1, model.hidden_layer_size))\n",
    "        test_inputs.append(model(seq).item())\n",
    "\n",
    "actual_predictions = scaler.inverse_transform(np.array(test_inputs[train_window:]).reshape(-1,1))\n",
    "\n",
    "print(MAPE(test_data[train_window:-1], actual_predictions[:]))\n",
    "\n",
    "plt.plot(test_df)\n",
    "plt.plot(range(train_window, train_window+fut_pred), actual_predictions[:,0])"
   ]
  },
  {
   "cell_type": "code",
   "execution_count": 33,
   "id": "liberal-editing",
   "metadata": {},
   "outputs": [
    {
     "name": "stdout",
     "output_type": "stream",
     "text": [
      "251\n",
      "230\n",
      "Resistance    0.608344\n",
      "dtype: float64\n"
     ]
    },
    {
     "data": {
      "text/plain": [
       "[<matplotlib.lines.Line2D at 0x1f938c5cd90>]"
      ]
     },
     "execution_count": 33,
     "metadata": {},
     "output_type": "execute_result"
    },
    {
     "data": {
      "image/png": "[encoded data removed]",
      "text/plain": [
       "<Figure size 432x288 with 1 Axes>"
      ]
     },
     "metadata": {
      "needs_background": "light"
     },
     "output_type": "display_data"
    }
   ],
   "source": [
    "test_df = pd.read_csv('testset/J0003_0024_0221_20110307012732_cell_22.csv', encoding='utf8')\n",
    "\n",
    "test_df = test_df['Resistance']\n",
    "test_data = test_df\n",
    "test_data = pd.DataFrame(test_data)\n",
    "test_data.columns = scale_cols\n",
    "test_data_normalized = scaler.fit_transform(test_data[scale_cols])\n",
    "test_data_normalized = torch.FloatTensor(test_data_normalized).view(-1)\n",
    "test_inputs = test_data_normalized[:train_window].tolist()\n",
    "fut_pred = len(test_data_normalized) - train_window - 1\n",
    "print(len(test_data_normalized))\n",
    "print(fut_pred)\n",
    "\n",
    "for i in range(fut_pred):\n",
    "    seq = torch.FloatTensor(test_data_normalized[i:i+(train_window)].tolist())\n",
    "    with torch.no_grad():\n",
    "        model.hidden = (torch.zeros(1, 1, model.hidden_layer_size))\n",
    "        test_inputs.append(model(seq).item())\n",
    "\n",
    "actual_predictions = scaler.inverse_transform(np.array(test_inputs[train_window:]).reshape(-1,1))\n",
    "\n",
    "print(MAPE(test_data[train_window:-1], actual_predictions[:]))\n",
    "\n",
    "plt.plot(test_df)\n",
    "plt.plot(range(train_window, train_window+fut_pred), actual_predictions[:,0])"
   ]
  },
  {
   "cell_type": "code",
   "execution_count": 34,
   "id": "uniform-correspondence",
   "metadata": {},
   "outputs": [
    {
     "name": "stdout",
     "output_type": "stream",
     "text": [
      "251\n",
      "230\n",
      "Resistance    2.360894\n",
      "dtype: float64\n"
     ]
    },
    {
     "data": {
      "text/plain": [
       "[<matplotlib.lines.Line2D at 0x1f938cb9880>]"
      ]
     },
     "execution_count": 34,
     "metadata": {},
     "output_type": "execute_result"
    },
    {
     "data": {
      "image/png": "[encoded data removed]",
      "text/plain": [
       "<Figure size 432x288 with 1 Axes>"
      ]
     },
     "metadata": {
      "needs_background": "light"
     },
     "output_type": "display_data"
    }
   ],
   "source": [
    "test_df = pd.read_csv('testset/J0003_0024_0221_20110307012732_cell_23.csv', encoding='utf8')\n",
    "\n",
    "test_df = test_df['Resistance']\n",
    "test_data = test_df\n",
    "test_data = pd.DataFrame(test_data)\n",
    "test_data.columns = scale_cols\n",
    "test_data_normalized = scaler.fit_transform(test_data[scale_cols])\n",
    "test_data_normalized = torch.FloatTensor(test_data_normalized).view(-1)\n",
    "test_inputs = test_data_normalized[:train_window].tolist()\n",
    "fut_pred = len(test_data_normalized) - train_window - 1\n",
    "print(len(test_data_normalized))\n",
    "print(fut_pred)\n",
    "\n",
    "for i in range(fut_pred):\n",
    "    seq = torch.FloatTensor(test_data_normalized[i:i+(train_window)].tolist())\n",
    "    with torch.no_grad():\n",
    "        model.hidden = (torch.zeros(1, 1, model.hidden_layer_size))\n",
    "        test_inputs.append(model(seq).item())\n",
    "\n",
    "actual_predictions = scaler.inverse_transform(np.array(test_inputs[train_window:]).reshape(-1,1))\n",
    "\n",
    "print(MAPE(test_data[train_window:-1], actual_predictions[:]))\n",
    "\n",
    "plt.plot(test_df)\n",
    "plt.plot(range(train_window, train_window+fut_pred), actual_predictions[:,0])"
   ]
  },
  {
   "cell_type": "code",
   "execution_count": null,
   "id": "pretty-insulin",
   "metadata": {},
   "outputs": [],
   "source": []
  }
 ],
 "metadata": {
  "kernelspec": {
   "display_name": "Python 3",
   "language": "python",
   "name": "python3"
  },
  "language_info": {
   "codemirror_mode": {
    "name": "ipython",
    "version": 3
   },
   "file_extension": ".py",
   "mimetype": "text/x-python",
   "name": "python",
   "nbconvert_exporter": "python",
   "pygments_lexer": "ipython3",
   "version": "3.8.5"
  }
 },
 "nbformat": 4,
 "nbformat_minor": 5
}
