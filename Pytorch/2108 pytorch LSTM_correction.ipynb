{
 "cells": [
  {
   "cell_type": "code",
   "execution_count": 1,
   "id": "collected-present",
   "metadata": {},
   "outputs": [],
   "source": [
    "import torch\n",
    "import torch.nn as nn\n",
    "\n",
    "import numpy as np\n",
    "import pandas as pd\n",
    "import matplotlib.pyplot as plt"
   ]
  },
  {
   "cell_type": "code",
   "execution_count": 2,
   "id": "adaptive-directory",
   "metadata": {},
   "outputs": [],
   "source": [
    "def MAPE(y_true, y_pred): \n",
    "    return np.mean(np.abs((y_true - y_pred) / y_true)) * 100"
   ]
  },
  {
   "cell_type": "code",
   "execution_count": 3,
   "id": "exact-wilderness",
   "metadata": {},
   "outputs": [
    {
     "data": {
      "text/html": [
       "<div>\n",
       "<style scoped>\n",
       "    .dataframe tbody tr th:only-of-type {\n",
       "        vertical-align: middle;\n",
       "    }\n",
       "\n",
       "    .dataframe tbody tr th {\n",
       "        vertical-align: top;\n",
       "    }\n",
       "\n",
       "    .dataframe thead th {\n",
       "        text-align: right;\n",
       "    }\n",
       "</style>\n",
       "<table border=\"1\" class=\"dataframe\">\n",
       "  <thead>\n",
       "    <tr style=\"text-align: right;\">\n",
       "      <th></th>\n",
       "      <th>MeasuredDate</th>\n",
       "      <th>CellNo</th>\n",
       "      <th>Resistance</th>\n",
       "      <th>Volt</th>\n",
       "      <th>Temp</th>\n",
       "    </tr>\n",
       "  </thead>\n",
       "  <tbody>\n",
       "    <tr>\n",
       "      <th>0</th>\n",
       "      <td>2011.3.7 6:27</td>\n",
       "      <td>1</td>\n",
       "      <td>0.259</td>\n",
       "      <td>2.23</td>\n",
       "      <td>-20</td>\n",
       "    </tr>\n",
       "    <tr>\n",
       "      <th>1</th>\n",
       "      <td>2011.3.7 18:29</td>\n",
       "      <td>1</td>\n",
       "      <td>0.260</td>\n",
       "      <td>2.23</td>\n",
       "      <td>-20</td>\n",
       "    </tr>\n",
       "    <tr>\n",
       "      <th>2</th>\n",
       "      <td>2011.3.8 6:29</td>\n",
       "      <td>1</td>\n",
       "      <td>0.259</td>\n",
       "      <td>2.23</td>\n",
       "      <td>-20</td>\n",
       "    </tr>\n",
       "    <tr>\n",
       "      <th>3</th>\n",
       "      <td>2011.3.8 18:29</td>\n",
       "      <td>1</td>\n",
       "      <td>0.259</td>\n",
       "      <td>2.23</td>\n",
       "      <td>-20</td>\n",
       "    </tr>\n",
       "    <tr>\n",
       "      <th>4</th>\n",
       "      <td>2011.3.9 6:29</td>\n",
       "      <td>1</td>\n",
       "      <td>0.259</td>\n",
       "      <td>2.23</td>\n",
       "      <td>-20</td>\n",
       "    </tr>\n",
       "    <tr>\n",
       "      <th>...</th>\n",
       "      <td>...</td>\n",
       "      <td>...</td>\n",
       "      <td>...</td>\n",
       "      <td>...</td>\n",
       "      <td>...</td>\n",
       "    </tr>\n",
       "    <tr>\n",
       "      <th>254</th>\n",
       "      <td>2011.8.30 5:28</td>\n",
       "      <td>1</td>\n",
       "      <td>0.301</td>\n",
       "      <td>2.23</td>\n",
       "      <td>-20</td>\n",
       "    </tr>\n",
       "    <tr>\n",
       "      <th>255</th>\n",
       "      <td>2011.8.30 17:28</td>\n",
       "      <td>1</td>\n",
       "      <td>0.301</td>\n",
       "      <td>2.23</td>\n",
       "      <td>-20</td>\n",
       "    </tr>\n",
       "    <tr>\n",
       "      <th>256</th>\n",
       "      <td>2011.8.31 5:28</td>\n",
       "      <td>1</td>\n",
       "      <td>0.302</td>\n",
       "      <td>2.23</td>\n",
       "      <td>-20</td>\n",
       "    </tr>\n",
       "    <tr>\n",
       "      <th>257</th>\n",
       "      <td>2011.8.31 16:09</td>\n",
       "      <td>1</td>\n",
       "      <td>0.300</td>\n",
       "      <td>2.23</td>\n",
       "      <td>-20</td>\n",
       "    </tr>\n",
       "    <tr>\n",
       "      <th>258</th>\n",
       "      <td>2011.8.31 16:12</td>\n",
       "      <td>1</td>\n",
       "      <td>0.296</td>\n",
       "      <td>2.23</td>\n",
       "      <td>-20</td>\n",
       "    </tr>\n",
       "  </tbody>\n",
       "</table>\n",
       "<p>259 rows × 5 columns</p>\n",
       "</div>"
      ],
      "text/plain": [
       "        MeasuredDate  CellNo  Resistance  Volt  Temp\n",
       "0      2011.3.7 6:27       1       0.259  2.23   -20\n",
       "1     2011.3.7 18:29       1       0.260  2.23   -20\n",
       "2      2011.3.8 6:29       1       0.259  2.23   -20\n",
       "3     2011.3.8 18:29       1       0.259  2.23   -20\n",
       "4      2011.3.9 6:29       1       0.259  2.23   -20\n",
       "..               ...     ...         ...   ...   ...\n",
       "254   2011.8.30 5:28       1       0.301  2.23   -20\n",
       "255  2011.8.30 17:28       1       0.301  2.23   -20\n",
       "256   2011.8.31 5:28       1       0.302  2.23   -20\n",
       "257  2011.8.31 16:09       1       0.300  2.23   -20\n",
       "258  2011.8.31 16:12       1       0.296  2.23   -20\n",
       "\n",
       "[259 rows x 5 columns]"
      ]
     },
     "execution_count": 3,
     "metadata": {},
     "output_type": "execute_result"
    }
   ],
   "source": [
    "df = pd.read_csv('trainset/J0003_0024_0222_20110307012737_cell_1.csv', encoding='utf8')\n",
    "df"
   ]
  },
  {
   "cell_type": "code",
   "execution_count": 4,
   "id": "behavioral-running",
   "metadata": {},
   "outputs": [
    {
     "data": {
      "text/plain": [
       "0      0.259\n",
       "1      0.260\n",
       "2      0.259\n",
       "3      0.259\n",
       "4      0.259\n",
       "       ...  \n",
       "254    0.301\n",
       "255    0.301\n",
       "256    0.302\n",
       "257    0.300\n",
       "258    0.296\n",
       "Name: Resistance, Length: 259, dtype: float64"
      ]
     },
     "execution_count": 4,
     "metadata": {},
     "output_type": "execute_result"
    }
   ],
   "source": [
    "df = df['Resistance']\n",
    "df"
   ]
  },
  {
   "cell_type": "code",
   "execution_count": 5,
   "id": "welsh-reality",
   "metadata": {},
   "outputs": [],
   "source": [
    "test_data_size = 30\n",
    "train_data = df[:-test_data_size]\n",
    "test_data = df[-test_data_size:]"
   ]
  },
  {
   "cell_type": "code",
   "execution_count": 6,
   "id": "collect-peeing",
   "metadata": {},
   "outputs": [
    {
     "data": {
      "text/html": [
       "<div>\n",
       "<style scoped>\n",
       "    .dataframe tbody tr th:only-of-type {\n",
       "        vertical-align: middle;\n",
       "    }\n",
       "\n",
       "    .dataframe tbody tr th {\n",
       "        vertical-align: top;\n",
       "    }\n",
       "\n",
       "    .dataframe thead th {\n",
       "        text-align: right;\n",
       "    }\n",
       "</style>\n",
       "<table border=\"1\" class=\"dataframe\">\n",
       "  <thead>\n",
       "    <tr style=\"text-align: right;\">\n",
       "      <th></th>\n",
       "      <th>Resistance</th>\n",
       "    </tr>\n",
       "  </thead>\n",
       "  <tbody>\n",
       "    <tr>\n",
       "      <th>0</th>\n",
       "      <td>0.259</td>\n",
       "    </tr>\n",
       "    <tr>\n",
       "      <th>1</th>\n",
       "      <td>0.260</td>\n",
       "    </tr>\n",
       "    <tr>\n",
       "      <th>2</th>\n",
       "      <td>0.259</td>\n",
       "    </tr>\n",
       "    <tr>\n",
       "      <th>3</th>\n",
       "      <td>0.259</td>\n",
       "    </tr>\n",
       "    <tr>\n",
       "      <th>4</th>\n",
       "      <td>0.259</td>\n",
       "    </tr>\n",
       "    <tr>\n",
       "      <th>...</th>\n",
       "      <td>...</td>\n",
       "    </tr>\n",
       "    <tr>\n",
       "      <th>224</th>\n",
       "      <td>0.294</td>\n",
       "    </tr>\n",
       "    <tr>\n",
       "      <th>225</th>\n",
       "      <td>0.294</td>\n",
       "    </tr>\n",
       "    <tr>\n",
       "      <th>226</th>\n",
       "      <td>0.295</td>\n",
       "    </tr>\n",
       "    <tr>\n",
       "      <th>227</th>\n",
       "      <td>0.295</td>\n",
       "    </tr>\n",
       "    <tr>\n",
       "      <th>228</th>\n",
       "      <td>0.295</td>\n",
       "    </tr>\n",
       "  </tbody>\n",
       "</table>\n",
       "<p>229 rows × 1 columns</p>\n",
       "</div>"
      ],
      "text/plain": [
       "     Resistance\n",
       "0         0.259\n",
       "1         0.260\n",
       "2         0.259\n",
       "3         0.259\n",
       "4         0.259\n",
       "..          ...\n",
       "224       0.294\n",
       "225       0.294\n",
       "226       0.295\n",
       "227       0.295\n",
       "228       0.295\n",
       "\n",
       "[229 rows x 1 columns]"
      ]
     },
     "execution_count": 6,
     "metadata": {},
     "output_type": "execute_result"
    }
   ],
   "source": [
    "from sklearn.preprocessing import MinMaxScaler\n",
    "\n",
    "scaler = MinMaxScaler()\n",
    "scale_cols = ['Resistance']\n",
    "train_data = pd.DataFrame(train_data)\n",
    "train_data.columns = scale_cols\n",
    "\n",
    "train_data"
   ]
  },
  {
   "cell_type": "code",
   "execution_count": 7,
   "id": "virgin-singing",
   "metadata": {},
   "outputs": [],
   "source": [
    "train_data_normalized = scaler.fit_transform(train_data[scale_cols])"
   ]
  },
  {
   "cell_type": "code",
   "execution_count": 8,
   "id": "italic-northwest",
   "metadata": {},
   "outputs": [],
   "source": [
    "train_data_normalized = torch.FloatTensor(train_data_normalized).view(-1)"
   ]
  },
  {
   "cell_type": "code",
   "execution_count": 9,
   "id": "satisfied-pipeline",
   "metadata": {},
   "outputs": [],
   "source": [
    "train_window = 20"
   ]
  },
  {
   "cell_type": "code",
   "execution_count": 10,
   "id": "driven-broadway",
   "metadata": {},
   "outputs": [],
   "source": [
    "def create_inout_sequences(input_data, tw):\n",
    "    inout_seq = []\n",
    "    L = len(input_data)\n",
    "    for i in range(L-tw):\n",
    "        train_seq = input_data[i:i+tw]\n",
    "        train_label = input_data[i+tw:i+tw+1]\n",
    "        inout_seq.append((train_seq, train_label))\n",
    "    return inout_seq"
   ]
  },
  {
   "cell_type": "code",
   "execution_count": 11,
   "id": "actual-zimbabwe",
   "metadata": {},
   "outputs": [],
   "source": [
    "train_inout_seq = create_inout_sequences(train_data_normalized, train_window)"
   ]
  },
  {
   "cell_type": "code",
   "execution_count": 12,
   "id": "fewer-physiology",
   "metadata": {},
   "outputs": [
    {
     "data": {
      "text/plain": [
       "tensor([0.0270, 0.0541, 0.0270, 0.0270, 0.0270, 0.0270, 0.0541, 0.0541, 0.0811,\n",
       "        0.0541, 0.0541, 0.0541, 0.0811, 0.0541, 0.0541, 0.0000, 0.0000, 0.0000,\n",
       "        0.0270, 0.0811, 0.0541, 0.0541, 0.1081, 0.1081, 0.1081])"
      ]
     },
     "execution_count": 12,
     "metadata": {},
     "output_type": "execute_result"
    }
   ],
   "source": [
    "train_data_normalized[:25]"
   ]
  },
  {
   "cell_type": "code",
   "execution_count": 13,
   "id": "dominant-compression",
   "metadata": {},
   "outputs": [
    {
     "data": {
      "text/plain": [
       "[(tensor([0.0270, 0.0541, 0.0270, 0.0270, 0.0270, 0.0270, 0.0541, 0.0541, 0.0811,\n",
       "          0.0541, 0.0541, 0.0541, 0.0811, 0.0541, 0.0541, 0.0000, 0.0000, 0.0000,\n",
       "          0.0270, 0.0811]),\n",
       "  tensor([0.0541])),\n",
       " (tensor([0.0541, 0.0270, 0.0270, 0.0270, 0.0270, 0.0541, 0.0541, 0.0811, 0.0541,\n",
       "          0.0541, 0.0541, 0.0811, 0.0541, 0.0541, 0.0000, 0.0000, 0.0000, 0.0270,\n",
       "          0.0811, 0.0541]),\n",
       "  tensor([0.0541])),\n",
       " (tensor([0.0270, 0.0270, 0.0270, 0.0270, 0.0541, 0.0541, 0.0811, 0.0541, 0.0541,\n",
       "          0.0541, 0.0811, 0.0541, 0.0541, 0.0000, 0.0000, 0.0000, 0.0270, 0.0811,\n",
       "          0.0541, 0.0541]),\n",
       "  tensor([0.1081])),\n",
       " (tensor([0.0270, 0.0270, 0.0270, 0.0541, 0.0541, 0.0811, 0.0541, 0.0541, 0.0541,\n",
       "          0.0811, 0.0541, 0.0541, 0.0000, 0.0000, 0.0000, 0.0270, 0.0811, 0.0541,\n",
       "          0.0541, 0.1081]),\n",
       "  tensor([0.1081])),\n",
       " (tensor([0.0270, 0.0270, 0.0541, 0.0541, 0.0811, 0.0541, 0.0541, 0.0541, 0.0811,\n",
       "          0.0541, 0.0541, 0.0000, 0.0000, 0.0000, 0.0270, 0.0811, 0.0541, 0.0541,\n",
       "          0.1081, 0.1081]),\n",
       "  tensor([0.1081]))]"
      ]
     },
     "execution_count": 13,
     "metadata": {},
     "output_type": "execute_result"
    }
   ],
   "source": [
    "train_inout_seq[:5]"
   ]
  },
  {
   "cell_type": "code",
   "execution_count": 14,
   "id": "unlikely-webcam",
   "metadata": {},
   "outputs": [],
   "source": [
    "class LSTM(nn.Module):\n",
    "    def __init__(self, input_size=1, output_size=1):\n",
    "        super(LSTM, self).__init__()\n",
    "        self.hidden_layer_size = 128\n",
    "        \n",
    "        self.lstm = nn.LSTM(1, 128)\n",
    "        self.lin1 = nn.Linear(128,64)\n",
    "        self.lin2 = nn.Linear(64,32)\n",
    "        self.lin3 = nn.Linear(32,1)\n",
    "        \n",
    "        self.hidden_cell = (torch.zeros(1,1,self.hidden_layer_size),\n",
    "                            torch.zeros(1,1,self.hidden_layer_size))\n",
    "\n",
    "    def forward(self, input_seq):\n",
    "        lstm_out, self.hidden_cell = self.lstm(input_seq.view(len(input_seq), 1, -1), self.hidden_cell)\n",
    "        pred1 = self.lin1(lstm_out.view(len(input_seq), -1))\n",
    "        pred2 = self.lin2(pred1.view(len(input_seq), -1))\n",
    "        predictions = self.lin3(pred2.view(len(input_seq), -1))\n",
    "        return predictions[-1]"
   ]
  },
  {
   "cell_type": "code",
   "execution_count": 15,
   "id": "sapphire-neighbor",
   "metadata": {
    "scrolled": true
   },
   "outputs": [
    {
     "name": "stdout",
     "output_type": "stream",
     "text": [
      "Using cuda device\n",
      "LSTM(\n",
      "  (lstm): LSTM(1, 128)\n",
      "  (lin1): Linear(in_features=128, out_features=64, bias=True)\n",
      "  (lin2): Linear(in_features=64, out_features=32, bias=True)\n",
      "  (lin3): Linear(in_features=32, out_features=1, bias=True)\n",
      ")\n"
     ]
    }
   ],
   "source": [
    "device = 'cuda' if torch.cuda.is_available() else 'cpu'\n",
    "print('Using {} device'.format(device))\n",
    "model = LSTM().to(device)\n",
    "print(model)"
   ]
  },
  {
   "cell_type": "code",
   "execution_count": 16,
   "id": "tamil-season",
   "metadata": {},
   "outputs": [],
   "source": [
    "model = LSTM()\n",
    "loss_function = nn.MSELoss()\n",
    "optimizer = torch.optim.Adam(model.parameters(), lr=0.001)"
   ]
  },
  {
   "cell_type": "code",
   "execution_count": 17,
   "id": "upper-faculty",
   "metadata": {},
   "outputs": [
    {
     "name": "stdout",
     "output_type": "stream",
     "text": [
      "epoch:   1 loss: 0.00050837\n",
      "epoch:  11 loss: 0.00035031\n",
      "epoch:  21 loss: 0.00027022\n",
      "epoch:  31 loss: 0.00029819\n",
      "epoch:  41 loss: 0.00022453\n",
      "epoch:  51 loss: 0.00005271\n",
      "epoch:  61 loss: 0.00008332\n",
      "epoch:  71 loss: 0.00006914\n",
      "epoch:  81 loss: 0.00015664\n",
      "epoch:  91 loss: 0.00001452\n",
      "epoch:  99 loss: 0.0000194011\n"
     ]
    }
   ],
   "source": [
    "epochs = 100\n",
    "\n",
    "for i in range(epochs):\n",
    "    for seq, labels in train_inout_seq:\n",
    "        optimizer.zero_grad()\n",
    "        model.hidden_cell = (torch.zeros(1, 1, model.hidden_layer_size),\n",
    "                        torch.zeros(1, 1, model.hidden_layer_size))\n",
    "\n",
    "        y_pred = model(seq)\n",
    "\n",
    "        single_loss = loss_function(y_pred, labels)\n",
    "        single_loss.backward()\n",
    "        optimizer.step()\n",
    "\n",
    "    if i%10 == 1:\n",
    "        print(f'epoch: {i:3} loss: {single_loss.item():10.8f}')\n",
    "\n",
    "print(f'epoch: {i:3} loss: {single_loss.item():10.10f}')"
   ]
  },
  {
   "cell_type": "code",
   "execution_count": 21,
   "id": "discrete-clinic",
   "metadata": {},
   "outputs": [
    {
     "name": "stdout",
     "output_type": "stream",
     "text": [
      "208\n",
      "229\n",
      "[0.027027027681469917, 0.054054055362939835, 0.027027027681469917, 0.027027027681469917, 0.027027027681469917, 0.027027027681469917, 0.054054055362939835, 0.054054055362939835, 0.0810810774564743, 0.054054055362939835, 0.054054055362939835, 0.054054055362939835, 0.0810810774564743, 0.054054055362939835, 0.054054055362939835, 0.0, 0.0, 0.0, 0.027027027681469917, 0.0810810774564743]\n"
     ]
    }
   ],
   "source": [
    "fut_pred = len(train_data_normalized) - train_window - 1\n",
    "print(fut_pred)\n",
    "print(len(train_data_normalized))\n",
    "test_inputs = train_data_normalized[:train_window].tolist()\n",
    "print(test_inputs)"
   ]
  },
  {
   "cell_type": "code",
   "execution_count": 22,
   "id": "satisfied-treaty",
   "metadata": {},
   "outputs": [
    {
     "name": "stdout",
     "output_type": "stream",
     "text": [
      "228\n"
     ]
    }
   ],
   "source": [
    "model.eval()\n",
    "\n",
    "for i in range(fut_pred):\n",
    "    seq = torch.FloatTensor(train_data_normalized[i:i+train_window].tolist())\n",
    "    with torch.no_grad():\n",
    "        model.hidden = (torch.zeros(1, 1, model.hidden_layer_size),\n",
    "                        torch.zeros(1, 1, model.hidden_layer_size))\n",
    "        test_inputs.append(model(seq).item())\n",
    "        \n",
    "print(len(test_inputs))"
   ]
  },
  {
   "cell_type": "code",
   "execution_count": 24,
   "id": "piano-warner",
   "metadata": {},
   "outputs": [
    {
     "data": {
      "text/plain": [
       "[0.027027027681469917,\n",
       " 0.054054055362939835,\n",
       " 0.027027027681469917,\n",
       " 0.027027027681469917,\n",
       " 0.027027027681469917,\n",
       " 0.027027027681469917,\n",
       " 0.054054055362939835,\n",
       " 0.054054055362939835,\n",
       " 0.0810810774564743,\n",
       " 0.054054055362939835,\n",
       " 0.054054055362939835,\n",
       " 0.054054055362939835,\n",
       " 0.0810810774564743,\n",
       " 0.054054055362939835,\n",
       " 0.054054055362939835,\n",
       " 0.0,\n",
       " 0.0,\n",
       " 0.0,\n",
       " 0.027027027681469917,\n",
       " 0.0810810774564743]"
      ]
     },
     "execution_count": 24,
     "metadata": {},
     "output_type": "execute_result"
    }
   ],
   "source": [
    "test_inputs[:20]"
   ]
  },
  {
   "cell_type": "code",
   "execution_count": 27,
   "id": "cardiac-pencil",
   "metadata": {},
   "outputs": [
    {
     "name": "stdout",
     "output_type": "stream",
     "text": [
      "[[0.26253894]\n",
      " [0.26288887]\n",
      " [0.26293705]\n",
      " [0.26468687]\n",
      " [0.26490548]\n",
      " [0.26475535]\n",
      " [0.26449602]\n",
      " [0.26400489]\n",
      " [0.26271999]\n",
      " [0.26427851]\n",
      " [0.26410395]\n",
      " [0.26482995]\n",
      " [0.26435249]\n",
      " [0.26361339]\n",
      " [0.26311223]\n",
      " [0.26173921]\n",
      " [0.26272705]\n",
      " [0.2634786 ]\n",
      " [0.26326419]\n",
      " [0.262868  ]\n",
      " [0.26369815]\n",
      " [0.2632175 ]\n",
      " [0.26563311]\n",
      " [0.26606117]\n",
      " [0.26607748]\n",
      " [0.2660213 ]\n",
      " [0.26621647]\n",
      " [0.26733139]\n",
      " [0.26728094]\n",
      " [0.26792987]\n",
      " [0.26855364]\n",
      " [0.26863798]\n",
      " [0.26863031]\n",
      " [0.26774274]\n",
      " [0.26719498]\n",
      " [0.26739142]\n",
      " [0.26897392]\n",
      " [0.26950179]\n",
      " [0.26928454]\n",
      " [0.26828511]\n",
      " [0.26846082]\n",
      " [0.2703265 ]\n",
      " [0.27029591]\n",
      " [0.26946903]\n",
      " [0.26853235]\n",
      " [0.26885055]\n",
      " [0.2700122 ]\n",
      " [0.26905633]\n",
      " [0.26964507]\n",
      " [0.27012494]\n",
      " [0.26957468]\n",
      " [0.26955941]\n",
      " [0.26995656]\n",
      " [0.26943948]\n",
      " [0.26978765]\n",
      " [0.26863496]\n",
      " [0.26964167]\n",
      " [0.26970956]\n",
      " [0.27129478]\n",
      " [0.27079545]\n",
      " [0.2701509 ]\n",
      " [0.27021283]\n",
      " [0.27104048]\n",
      " [0.27126884]\n",
      " [0.27134628]\n",
      " [0.27033854]\n",
      " [0.27134752]\n",
      " [0.27143446]\n",
      " [0.27159006]\n",
      " [0.27129877]\n",
      " [0.27203878]\n",
      " [0.27134781]\n",
      " [0.27227928]\n",
      " [0.2718341 ]\n",
      " [0.27213638]\n",
      " [0.2729631 ]\n",
      " [0.27350971]\n",
      " [0.27357452]\n",
      " [0.27290643]\n",
      " [0.2729365 ]\n",
      " [0.27228377]\n",
      " [0.27358465]\n",
      " [0.27418371]\n",
      " [0.27493403]\n",
      " [0.2755634 ]\n",
      " [0.27456761]\n",
      " [0.27468661]\n",
      " [0.27457165]\n",
      " [0.27413494]\n",
      " [0.27522735]\n",
      " [0.27573991]\n",
      " [0.27592845]\n",
      " [0.27676038]\n",
      " [0.27630467]\n",
      " [0.2756679 ]\n",
      " [0.27587979]\n",
      " [0.27582109]\n",
      " [0.27690877]\n",
      " [0.27696581]\n",
      " [0.27696324]\n",
      " [0.2774559 ]\n",
      " [0.27805929]\n",
      " [0.2773289 ]\n",
      " [0.27729159]\n",
      " [0.27702828]\n",
      " [0.27749251]\n",
      " [0.27783492]\n",
      " [0.27915698]\n",
      " [0.27879832]\n",
      " [0.27908223]\n",
      " [0.27939953]\n",
      " [0.27892472]\n",
      " [0.27868338]\n",
      " [0.27963467]\n",
      " [0.27917751]\n",
      " [0.28038473]\n",
      " [0.27981357]\n",
      " [0.27976326]\n",
      " [0.2790424 ]\n",
      " [0.28057694]\n",
      " [0.28078195]\n",
      " [0.28035945]\n",
      " [0.28062114]\n",
      " [0.28140881]\n",
      " [0.28241617]\n",
      " [0.28190505]\n",
      " [0.28176772]\n",
      " [0.28203115]\n",
      " [0.28170217]\n",
      " [0.28294654]\n",
      " [0.28331991]\n",
      " [0.28246413]\n",
      " [0.28401922]\n",
      " [0.28287352]\n",
      " [0.28260481]\n",
      " [0.28265705]\n",
      " [0.28331529]\n",
      " [0.28212499]\n",
      " [0.28291328]\n",
      " [0.28390209]\n",
      " [0.28440843]\n",
      " [0.28533985]\n",
      " [0.2848887 ]\n",
      " [0.28542941]\n",
      " [0.28511967]\n",
      " [0.28513959]\n",
      " [0.2855048 ]\n",
      " [0.28560394]\n",
      " [0.28523942]\n",
      " [0.28616637]\n",
      " [0.28634225]\n",
      " [0.28602773]\n",
      " [0.28678681]\n",
      " [0.28686936]\n",
      " [0.28708066]\n",
      " [0.28717209]\n",
      " [0.28715137]\n",
      " [0.28764602]\n",
      " [0.2865464 ]\n",
      " [0.28665921]\n",
      " [0.28754023]\n",
      " [0.28765573]\n",
      " [0.28845409]\n",
      " [0.28871833]\n",
      " [0.2883389 ]\n",
      " [0.28795619]\n",
      " [0.28769868]\n",
      " [0.28871155]\n",
      " [0.28885842]\n",
      " [0.28883668]\n",
      " [0.28914489]\n",
      " [0.28939304]\n",
      " [0.28853963]\n",
      " [0.28957901]\n",
      " [0.28997952]\n",
      " [0.2892277 ]\n",
      " [0.29001342]\n",
      " [0.29032029]\n",
      " [0.29086013]\n",
      " [0.2910296 ]\n",
      " [0.29132466]\n",
      " [0.29041913]\n",
      " [0.2912395 ]\n",
      " [0.29082678]\n",
      " [0.29137161]\n",
      " [0.29221361]\n",
      " [0.29222276]\n",
      " [0.29195337]\n",
      " [0.2913006 ]\n",
      " [0.29126178]\n",
      " [0.291922  ]\n",
      " [0.29263719]\n",
      " [0.29277348]\n",
      " [0.29308239]\n",
      " [0.29275351]\n",
      " [0.29327598]\n",
      " [0.29342471]\n",
      " [0.29339418]\n",
      " [0.29353223]\n",
      " [0.29368973]\n",
      " [0.29371086]\n",
      " [0.29412333]\n",
      " [0.29356767]\n",
      " [0.29407879]\n",
      " [0.29384748]\n",
      " [0.29376839]\n",
      " [0.29377343]\n",
      " [0.29408627]]\n"
     ]
    }
   ],
   "source": [
    "actual_predictions = scaler.inverse_transform(np.array(test_inputs[train_window:]).reshape(-1,1))\n",
    "print(actual_predictions)"
   ]
  },
  {
   "cell_type": "code",
   "execution_count": 28,
   "id": "recognized-effectiveness",
   "metadata": {},
   "outputs": [
    {
     "data": {
      "text/plain": [
       "[<matplotlib.lines.Line2D at 0x1a48896db50>]"
      ]
     },
     "execution_count": 28,
     "metadata": {},
     "output_type": "execute_result"
    },
    {
     "data": {
      "image/png": "[encoded data removed]",
      "text/plain": [
       "<Figure size 432x288 with 1 Axes>"
      ]
     },
     "metadata": {
      "needs_background": "light"
     },
     "output_type": "display_data"
    }
   ],
   "source": [
    "plt.plot(train_data)\n",
    "plt.plot(range(train_window,train_window+fut_pred),actual_predictions[:,0])"
   ]
  },
  {
   "cell_type": "code",
   "execution_count": 29,
   "id": "acute-briefs",
   "metadata": {},
   "outputs": [
    {
     "name": "stdout",
     "output_type": "stream",
     "text": [
      "(208, 1)\n",
      "(208, 1)\n",
      "Resistance    0.461624\n",
      "dtype: float64\n"
     ]
    }
   ],
   "source": [
    "print(train_data[train_window:-1].shape)\n",
    "print(actual_predictions.shape)\n",
    "print(MAPE(train_data[train_window:-1], actual_predictions[:]))"
   ]
  },
  {
   "cell_type": "code",
   "execution_count": 31,
   "id": "compressed-neighbor",
   "metadata": {},
   "outputs": [
    {
     "name": "stdout",
     "output_type": "stream",
     "text": [
      "258\n",
      "237\n",
      "Resistance    0.442011\n",
      "dtype: float64\n"
     ]
    },
    {
     "data": {
      "text/plain": [
       "[<matplotlib.lines.Line2D at 0x1a48911a4f0>]"
      ]
     },
     "execution_count": 31,
     "metadata": {},
     "output_type": "execute_result"
    },
    {
     "data": {
      "image/png": "[encoded data removed]",
      "text/plain": [
       "<Figure size 432x288 with 1 Axes>"
      ]
     },
     "metadata": {
      "needs_background": "light"
     },
     "output_type": "display_data"
    }
   ],
   "source": [
    "test_df = pd.read_csv('testset/J0003_0024_0221_20110307012732_cell_03.csv', encoding='utf8')\n",
    "\n",
    "test_df = test_df['Resistance']\n",
    "test_data = test_df\n",
    "test_data = pd.DataFrame(test_data)\n",
    "test_data.columns = scale_cols\n",
    "test_data_normalized = scaler.fit_transform(test_data[scale_cols])\n",
    "test_data_normalized = torch.FloatTensor(test_data_normalized).view(-1)\n",
    "test_inputs = test_data_normalized[:train_window].tolist()\n",
    "fut_pred = len(test_data_normalized) - train_window - 1\n",
    "print(len(test_data_normalized))\n",
    "print(fut_pred)\n",
    "\n",
    "for i in range(fut_pred):\n",
    "    seq = torch.FloatTensor(test_data_normalized[i:i+train_window].tolist())\n",
    "    with torch.no_grad():\n",
    "        model.hidden = (torch.zeros(1, 1, model.hidden_layer_size), torch.zeros(1, 1, model.hidden_layer_size))\n",
    "        test_inputs.append(model(seq).item())\n",
    "\n",
    "actual_predictions = scaler.inverse_transform(np.array(test_inputs[train_window:]).reshape(-1,1))\n",
    "\n",
    "print(MAPE(test_data[train_window:-1], actual_predictions[:]))\n",
    "\n",
    "plt.plot(test_df)\n",
    "plt.plot(range(train_window, train_window+fut_pred), actual_predictions[:,0])"
   ]
  },
  {
   "cell_type": "code",
   "execution_count": 32,
   "id": "communist-deployment",
   "metadata": {},
   "outputs": [
    {
     "name": "stdout",
     "output_type": "stream",
     "text": [
      "256\n",
      "235\n",
      "Resistance    2.817479\n",
      "dtype: float64\n"
     ]
    },
    {
     "data": {
      "text/plain": [
       "[<matplotlib.lines.Line2D at 0x1a489173610>]"
      ]
     },
     "execution_count": 32,
     "metadata": {},
     "output_type": "execute_result"
    },
    {
     "data": {
      "image/png": "[encoded data removed]",
      "text/plain": [
       "<Figure size 432x288 with 1 Axes>"
      ]
     },
     "metadata": {
      "needs_background": "light"
     },
     "output_type": "display_data"
    }
   ],
   "source": [
    "test_df = pd.read_csv('testset/J0003_0024_0221_20110307012732_cell_06.csv', encoding='utf8')\n",
    "\n",
    "test_df = test_df['Resistance']\n",
    "test_data = test_df\n",
    "test_data = pd.DataFrame(test_data)\n",
    "test_data.columns = scale_cols\n",
    "test_data_normalized = scaler.fit_transform(test_data[scale_cols])\n",
    "test_data_normalized = torch.FloatTensor(test_data_normalized).view(-1)\n",
    "test_inputs = test_data_normalized[:train_window].tolist()\n",
    "fut_pred = len(test_data_normalized) - train_window - 1\n",
    "print(len(test_data_normalized))\n",
    "print(fut_pred)\n",
    "\n",
    "for i in range(fut_pred):\n",
    "    seq = torch.FloatTensor(test_data_normalized[i:i+train_window].tolist())\n",
    "    with torch.no_grad():\n",
    "        model.hidden = (torch.zeros(1, 1, model.hidden_layer_size), torch.zeros(1, 1, model.hidden_layer_size))\n",
    "        test_inputs.append(model(seq).item())\n",
    "\n",
    "actual_predictions = scaler.inverse_transform(np.array(test_inputs[train_window:]).reshape(-1,1))\n",
    "\n",
    "print(MAPE(test_data[train_window:-1], actual_predictions[:]))\n",
    "\n",
    "plt.plot(test_df)\n",
    "plt.plot(range(train_window, train_window+fut_pred), actual_predictions[:,0])"
   ]
  },
  {
   "cell_type": "code",
   "execution_count": 33,
   "id": "reliable-helmet",
   "metadata": {
    "scrolled": false
   },
   "outputs": [
    {
     "name": "stdout",
     "output_type": "stream",
     "text": [
      "255\n",
      "234\n",
      "Resistance    4.978839\n",
      "dtype: float64\n"
     ]
    },
    {
     "data": {
      "text/plain": [
       "[<matplotlib.lines.Line2D at 0x1a4891cd7f0>]"
      ]
     },
     "execution_count": 33,
     "metadata": {},
     "output_type": "execute_result"
    },
    {
     "data": {
      "image/png": "[encoded data removed]",
      "text/plain": [
       "<Figure size 432x288 with 1 Axes>"
      ]
     },
     "metadata": {
      "needs_background": "light"
     },
     "output_type": "display_data"
    }
   ],
   "source": [
    "test_df = pd.read_csv('testset/J0003_0024_0221_20110307012732_cell_7.csv', encoding='utf8')\n",
    "\n",
    "test_df = test_df['Resistance']\n",
    "test_data = test_df\n",
    "test_data = pd.DataFrame(test_data)\n",
    "test_data.columns = scale_cols\n",
    "test_data_normalized = scaler.fit_transform(test_data[scale_cols])\n",
    "test_data_normalized = torch.FloatTensor(test_data_normalized).view(-1)\n",
    "test_inputs = test_data_normalized[:train_window].tolist()\n",
    "fut_pred = len(test_data_normalized) - train_window - 1\n",
    "print(len(test_data_normalized))\n",
    "print(fut_pred)\n",
    "\n",
    "for i in range(fut_pred):\n",
    "    seq = torch.FloatTensor(test_data_normalized[i:i+train_window].tolist())\n",
    "    with torch.no_grad():\n",
    "        model.hidden = (torch.zeros(1, 1, model.hidden_layer_size), torch.zeros(1, 1, model.hidden_layer_size))\n",
    "        test_inputs.append(model(seq).item())\n",
    "\n",
    "actual_predictions = scaler.inverse_transform(np.array(test_inputs[train_window:]).reshape(-1,1))\n",
    "\n",
    "print(MAPE(test_data[train_window:-1], actual_predictions[:]))\n",
    "\n",
    "plt.plot(test_df)\n",
    "plt.plot(range(train_window, train_window+fut_pred), actual_predictions[:,0])"
   ]
  },
  {
   "cell_type": "code",
   "execution_count": 34,
   "id": "central-operator",
   "metadata": {},
   "outputs": [
    {
     "name": "stdout",
     "output_type": "stream",
     "text": [
      "254\n",
      "233\n",
      "Resistance    0.571044\n",
      "dtype: float64\n"
     ]
    },
    {
     "data": {
      "text/plain": [
       "[<matplotlib.lines.Line2D at 0x1a489234310>]"
      ]
     },
     "execution_count": 34,
     "metadata": {},
     "output_type": "execute_result"
    },
    {
     "data": {
      "image/png": "[encoded data removed]",
      "text/plain": [
       "<Figure size 432x288 with 1 Axes>"
      ]
     },
     "metadata": {
      "needs_background": "light"
     },
     "output_type": "display_data"
    }
   ],
   "source": [
    "test_df = pd.read_csv('testset/J0003_0024_0221_20110307012732_cell_9.csv', encoding='utf8')\n",
    "\n",
    "test_df = test_df['Resistance']\n",
    "test_data = test_df\n",
    "test_data = pd.DataFrame(test_data)\n",
    "test_data.columns = scale_cols\n",
    "test_data_normalized = scaler.fit_transform(test_data[scale_cols])\n",
    "test_data_normalized = torch.FloatTensor(test_data_normalized).view(-1)\n",
    "test_inputs = test_data_normalized[:train_window].tolist()\n",
    "fut_pred = len(test_data_normalized) - train_window - 1\n",
    "print(len(test_data_normalized))\n",
    "print(fut_pred)\n",
    "\n",
    "for i in range(fut_pred):\n",
    "    seq = torch.FloatTensor(test_data_normalized[i:i+train_window].tolist())\n",
    "    with torch.no_grad():\n",
    "        model.hidden = (torch.zeros(1, 1, model.hidden_layer_size), torch.zeros(1, 1, model.hidden_layer_size))\n",
    "        test_inputs.append(model(seq).item())\n",
    "\n",
    "actual_predictions = scaler.inverse_transform(np.array(test_inputs[train_window:]).reshape(-1,1))\n",
    "\n",
    "print(MAPE(test_data[train_window:-1], actual_predictions[:]))\n",
    "\n",
    "plt.plot(test_df)\n",
    "plt.plot(range(train_window, train_window+fut_pred), actual_predictions[:,0])"
   ]
  },
  {
   "cell_type": "code",
   "execution_count": 35,
   "id": "positive-segment",
   "metadata": {},
   "outputs": [
    {
     "name": "stdout",
     "output_type": "stream",
     "text": [
      "252\n",
      "231\n",
      "Resistance    1.288605\n",
      "dtype: float64\n"
     ]
    },
    {
     "data": {
      "text/plain": [
       "[<matplotlib.lines.Line2D at 0x1a495a23f70>]"
      ]
     },
     "execution_count": 35,
     "metadata": {},
     "output_type": "execute_result"
    },
    {
     "data": {
      "image/png": "[encoded data removed]",
      "text/plain": [
       "<Figure size 432x288 with 1 Axes>"
      ]
     },
     "metadata": {
      "needs_background": "light"
     },
     "output_type": "display_data"
    }
   ],
   "source": [
    "test_df = pd.read_csv('testset/J0003_0024_0221_20110307012732_cell_18.csv', encoding='utf8')\n",
    "\n",
    "test_df = test_df['Resistance']\n",
    "test_data = test_df\n",
    "test_data = pd.DataFrame(test_data)\n",
    "test_data.columns = scale_cols\n",
    "test_data_normalized = scaler.fit_transform(test_data[scale_cols])\n",
    "test_data_normalized = torch.FloatTensor(test_data_normalized).view(-1)\n",
    "test_inputs = test_data_normalized[:train_window].tolist()\n",
    "fut_pred = len(test_data_normalized) - train_window - 1\n",
    "print(len(test_data_normalized))\n",
    "print(fut_pred)\n",
    "\n",
    "for i in range(fut_pred):\n",
    "    seq = torch.FloatTensor(test_data_normalized[i:i+train_window].tolist())\n",
    "    with torch.no_grad():\n",
    "        model.hidden = (torch.zeros(1, 1, model.hidden_layer_size), torch.zeros(1, 1, model.hidden_layer_size))\n",
    "        test_inputs.append(model(seq).item())\n",
    "\n",
    "actual_predictions = scaler.inverse_transform(np.array(test_inputs[train_window:]).reshape(-1,1))\n",
    "\n",
    "print(MAPE(test_data[train_window:-1], actual_predictions[:]))\n",
    "\n",
    "plt.plot(test_df)\n",
    "plt.plot(range(train_window, train_window+fut_pred), actual_predictions[:,0])"
   ]
  },
  {
   "cell_type": "code",
   "execution_count": 36,
   "id": "distributed-cradle",
   "metadata": {},
   "outputs": [
    {
     "name": "stdout",
     "output_type": "stream",
     "text": [
      "252\n",
      "231\n",
      "Resistance    0.431506\n",
      "dtype: float64\n"
     ]
    },
    {
     "data": {
      "text/plain": [
       "[<matplotlib.lines.Line2D at 0x1a4966b55e0>]"
      ]
     },
     "execution_count": 36,
     "metadata": {},
     "output_type": "execute_result"
    },
    {
     "data": {
      "image/png": "[encoded data removed]",
      "text/plain": [
       "<Figure size 432x288 with 1 Axes>"
      ]
     },
     "metadata": {
      "needs_background": "light"
     },
     "output_type": "display_data"
    }
   ],
   "source": [
    "test_df = pd.read_csv('testset/J0003_0024_0221_20110307012732_cell_19.csv', encoding='utf8')\n",
    "\n",
    "test_df = test_df['Resistance']\n",
    "test_data = test_df\n",
    "test_data = pd.DataFrame(test_data)\n",
    "test_data.columns = scale_cols\n",
    "test_data_normalized = scaler.fit_transform(test_data[scale_cols])\n",
    "test_data_normalized = torch.FloatTensor(test_data_normalized).view(-1)\n",
    "test_inputs = test_data_normalized[:train_window].tolist()\n",
    "fut_pred = len(test_data_normalized) - train_window - 1\n",
    "print(len(test_data_normalized))\n",
    "print(fut_pred)\n",
    "\n",
    "for i in range(fut_pred):\n",
    "    seq = torch.FloatTensor(test_data_normalized[i:i+train_window].tolist())\n",
    "    with torch.no_grad():\n",
    "        model.hidden = (torch.zeros(1, 1, model.hidden_layer_size), torch.zeros(1, 1, model.hidden_layer_size))\n",
    "        test_inputs.append(model(seq).item())\n",
    "\n",
    "actual_predictions = scaler.inverse_transform(np.array(test_inputs[train_window:]).reshape(-1,1))\n",
    "\n",
    "print(MAPE(test_data[train_window:-1], actual_predictions[:]))\n",
    "\n",
    "plt.plot(test_df)\n",
    "plt.plot(range(train_window, train_window+fut_pred), actual_predictions[:,0])"
   ]
  },
  {
   "cell_type": "code",
   "execution_count": 37,
   "id": "accurate-berlin",
   "metadata": {},
   "outputs": [
    {
     "name": "stdout",
     "output_type": "stream",
     "text": [
      "252\n",
      "231\n",
      "Resistance    0.629302\n",
      "dtype: float64\n"
     ]
    },
    {
     "data": {
      "text/plain": [
       "[<matplotlib.lines.Line2D at 0x1a49f32eee0>]"
      ]
     },
     "execution_count": 37,
     "metadata": {},
     "output_type": "execute_result"
    },
    {
     "data": {
      "image/png": "[encoded data removed]",
      "text/plain": [
       "<Figure size 432x288 with 1 Axes>"
      ]
     },
     "metadata": {
      "needs_background": "light"
     },
     "output_type": "display_data"
    }
   ],
   "source": [
    "test_df = pd.read_csv('testset/J0003_0024_0221_20110307012732_cell_20.csv', encoding='utf8')\n",
    "\n",
    "test_df = test_df['Resistance']\n",
    "test_data = test_df\n",
    "test_data = pd.DataFrame(test_data)\n",
    "test_data.columns = scale_cols\n",
    "test_data_normalized = scaler.fit_transform(test_data[scale_cols])\n",
    "test_data_normalized = torch.FloatTensor(test_data_normalized).view(-1)\n",
    "test_inputs = test_data_normalized[:train_window].tolist()\n",
    "fut_pred = len(test_data_normalized) - train_window - 1\n",
    "print(len(test_data_normalized))\n",
    "print(fut_pred)\n",
    "\n",
    "for i in range(fut_pred):\n",
    "    seq = torch.FloatTensor(test_data_normalized[i:i+train_window].tolist())\n",
    "    with torch.no_grad():\n",
    "        model.hidden = (torch.zeros(1, 1, model.hidden_layer_size), torch.zeros(1, 1, model.hidden_layer_size))\n",
    "        test_inputs.append(model(seq).item())\n",
    "\n",
    "actual_predictions = scaler.inverse_transform(np.array(test_inputs[train_window:]).reshape(-1,1))\n",
    "\n",
    "print(MAPE(test_data[train_window:-1], actual_predictions[:]))\n",
    "\n",
    "plt.plot(test_df)\n",
    "plt.plot(range(train_window, train_window+fut_pred), actual_predictions[:,0])"
   ]
  },
  {
   "cell_type": "code",
   "execution_count": 40,
   "id": "liberal-editing",
   "metadata": {},
   "outputs": [
    {
     "name": "stdout",
     "output_type": "stream",
     "text": [
      "251\n",
      "230\n",
      "Resistance    0.521959\n",
      "dtype: float64\n"
     ]
    },
    {
     "data": {
      "text/plain": [
       "[<matplotlib.lines.Line2D at 0x1a4ae938d30>]"
      ]
     },
     "execution_count": 40,
     "metadata": {},
     "output_type": "execute_result"
    },
    {
     "data": {
      "image/png": "[encoded data removed]",
      "text/plain": [
       "<Figure size 432x288 with 1 Axes>"
      ]
     },
     "metadata": {
      "needs_background": "light"
     },
     "output_type": "display_data"
    }
   ],
   "source": [
    "test_df = pd.read_csv('testset/J0003_0024_0221_20110307012732_cell_22.csv', encoding='utf8')\n",
    "\n",
    "test_df = test_df['Resistance']\n",
    "test_data = test_df\n",
    "test_data = pd.DataFrame(test_data)\n",
    "test_data.columns = scale_cols\n",
    "test_data_normalized = scaler.fit_transform(test_data[scale_cols])\n",
    "test_data_normalized = torch.FloatTensor(test_data_normalized).view(-1)\n",
    "test_inputs = test_data_normalized[:train_window].tolist()\n",
    "fut_pred = len(test_data_normalized) - train_window - 1\n",
    "print(len(test_data_normalized))\n",
    "print(fut_pred)\n",
    "\n",
    "for i in range(fut_pred):\n",
    "    seq = torch.FloatTensor(test_data_normalized[i:i+train_window].tolist())\n",
    "    with torch.no_grad():\n",
    "        model.hidden = (torch.zeros(1, 1, model.hidden_layer_size), torch.zeros(1, 1, model.hidden_layer_size))\n",
    "        test_inputs.append(model(seq).item())\n",
    "\n",
    "actual_predictions = scaler.inverse_transform(np.array(test_inputs[train_window:]).reshape(-1,1))\n",
    "\n",
    "print(MAPE(test_data[train_window:-1], actual_predictions[:]))\n",
    "\n",
    "plt.plot(test_df)\n",
    "plt.plot(range(train_window, train_window+fut_pred), actual_predictions[:,0])"
   ]
  },
  {
   "cell_type": "code",
   "execution_count": 41,
   "id": "uniform-correspondence",
   "metadata": {},
   "outputs": [
    {
     "name": "stdout",
     "output_type": "stream",
     "text": [
      "251\n",
      "230\n",
      "Resistance    2.032329\n",
      "dtype: float64\n"
     ]
    },
    {
     "data": {
      "text/plain": [
       "[<matplotlib.lines.Line2D at 0x1a4bbbb6a00>]"
      ]
     },
     "execution_count": 41,
     "metadata": {},
     "output_type": "execute_result"
    },
    {
     "data": {
      "image/png": "[encoded data removed]",
      "text/plain": [
       "<Figure size 432x288 with 1 Axes>"
      ]
     },
     "metadata": {
      "needs_background": "light"
     },
     "output_type": "display_data"
    }
   ],
   "source": [
    "test_df = pd.read_csv('testset/J0003_0024_0221_20110307012732_cell_23.csv', encoding='utf8')\n",
    "\n",
    "test_df = test_df['Resistance']\n",
    "test_data = test_df\n",
    "test_data = pd.DataFrame(test_data)\n",
    "test_data.columns = scale_cols\n",
    "test_data_normalized = scaler.fit_transform(test_data[scale_cols])\n",
    "test_data_normalized = torch.FloatTensor(test_data_normalized).view(-1)\n",
    "test_inputs = test_data_normalized[:train_window].tolist()\n",
    "fut_pred = len(test_data_normalized) - train_window - 1\n",
    "print(len(test_data_normalized))\n",
    "print(fut_pred)\n",
    "\n",
    "for i in range(fut_pred):\n",
    "    seq = torch.FloatTensor(test_data_normalized[i:i+train_window].tolist())\n",
    "    with torch.no_grad():\n",
    "        model.hidden = (torch.zeros(1, 1, model.hidden_layer_size), torch.zeros(1, 1, model.hidden_layer_size))\n",
    "        test_inputs.append(model(seq).item())\n",
    "\n",
    "actual_predictions = scaler.inverse_transform(np.array(test_inputs[train_window:]).reshape(-1,1))\n",
    "\n",
    "print(MAPE(test_data[train_window:-1], actual_predictions[:]))\n",
    "\n",
    "plt.plot(test_df)\n",
    "plt.plot(range(train_window, train_window+fut_pred), actual_predictions[:,0])"
   ]
  },
  {
   "cell_type": "code",
   "execution_count": null,
   "id": "disciplinary-buddy",
   "metadata": {},
   "outputs": [],
   "source": []
  }
 ],
 "metadata": {
  "kernelspec": {
   "display_name": "Python 3",
   "language": "python",
   "name": "python3"
  },
  "language_info": {
   "codemirror_mode": {
    "name": "ipython",
    "version": 3
   },
   "file_extension": ".py",
   "mimetype": "text/x-python",
   "name": "python",
   "nbconvert_exporter": "python",
   "pygments_lexer": "ipython3",
   "version": "3.8.5"
  }
 },
 "nbformat": 4,
 "nbformat_minor": 5
}
