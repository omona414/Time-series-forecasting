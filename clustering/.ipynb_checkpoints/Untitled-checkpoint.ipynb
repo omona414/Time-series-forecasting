{
 "cells": [
  {
   "cell_type": "code",
   "execution_count": 2,
   "id": "relative-factory",
   "metadata": {},
   "outputs": [
    {
     "name": "stdout",
     "output_type": "stream",
     "text": [
      "Collecting kshape\n",
      "  Downloading kshape-1.0.1.tar.gz (5.3 kB)\n",
      "Requirement already satisfied: numpy in f:\\program\\anaconda\\envs\\tensorflow\\lib\\site-packages (from kshape) (1.19.5)\n",
      "Building wheels for collected packages: kshape\n",
      "  Building wheel for kshape (setup.py): started\n",
      "  Building wheel for kshape (setup.py): finished with status 'done'\n",
      "  Created wheel for kshape: filename=kshape-1.0.1-py3-none-any.whl size=4613 sha256=b2e38e09aeefcd561f505035738af1e6e867fef5c8fc929acd7ad5df75a9e5ec\n",
      "  Stored in directory: c:\\users\\user\\appdata\\local\\pip\\cache\\wheels\\2b\\c0\\32\\f4ffb1d9f305aab307dfeabc046f4ba3eaf02f986c13510af1\n",
      "Successfully built kshape\n",
      "Installing collected packages: kshape\n",
      "Successfully installed kshape-1.0.1\n",
      "Note: you may need to restart the kernel to use updated packages.\n"
     ]
    }
   ],
   "source": [
    "pip install kshape"
   ]
  },
  {
   "cell_type": "code",
   "execution_count": 23,
   "id": "boxed-notion",
   "metadata": {},
   "outputs": [],
   "source": [
    "from kshape.core import kshape, zscore\n",
    "\n",
    "time_series = [[1,2,3,4], [0,1,2,3], [0,1,2,3], [1,2,2,3], [10,11,12,13],[10,11,12,13],[11,11,12,12]]\n",
    "cluster_num = 2\n",
    "clusters = kshape(zscore(time_series, axis=1), cluster_num)"
   ]
  },
  {
   "cell_type": "code",
   "execution_count": 24,
   "id": "composite-blood",
   "metadata": {},
   "outputs": [
    {
     "name": "stdout",
     "output_type": "stream",
     "text": [
      "[(array([-1.18030492, -0.32692554,  0.32692554,  1.18030492]), [0, 1, 2, 3, 4, 5]), (array([-0.8660254, -0.8660254,  0.8660254,  0.8660254]), [6])]\n"
     ]
    }
   ],
   "source": [
    "print(clusters)"
   ]
  },
  {
   "cell_type": "code",
   "execution_count": 26,
   "id": "adaptive-notion",
   "metadata": {},
   "outputs": [
    {
     "name": "stdout",
     "output_type": "stream",
     "text": [
      "[(array([-1.22474487,  0.        ,  0.        ,  1.22474487]), [3]), (array([-1.161895  , -0.38729833,  0.38729833,  1.161895  ]), [0, 1, 2, 4, 5]), (array([-0.8660254, -0.8660254,  0.8660254,  0.8660254]), [6])]\n"
     ]
    }
   ],
   "source": [
    "cluster_num = 3\n",
    "clusters = kshape(zscore(time_series, axis=1), cluster_num)\n",
    "print(clusters)"
   ]
  },
  {
   "cell_type": "code",
   "execution_count": 27,
   "id": "deadly-second",
   "metadata": {},
   "outputs": [
    {
     "name": "stdout",
     "output_type": "stream",
     "text": [
      "[(array([-1.161895  , -0.38729833,  0.38729833,  1.161895  ]), [0, 1, 2, 4, 5]), (array([-0.8660254, -0.8660254,  0.8660254,  0.8660254]), [6]), (array([-1.22474487,  0.        ,  0.        ,  1.22474487]), [3]), (array([0., 0., 0., 0.]), [])]\n"
     ]
    }
   ],
   "source": [
    "cluster_num = 4\n",
    "clusters = kshape(zscore(time_series, axis=1), cluster_num)\n",
    "print(clusters)"
   ]
  },
  {
   "cell_type": "code",
   "execution_count": 38,
   "id": "genuine-douglas",
   "metadata": {},
   "outputs": [
    {
     "ename": "TypeError",
     "evalue": "list indices must be integers or slices, not tuple",
     "output_type": "error",
     "traceback": [
      "\u001b[1;31m---------------------------------------------------------------------------\u001b[0m",
      "\u001b[1;31mTypeError\u001b[0m                                 Traceback (most recent call last)",
      "\u001b[1;32m<ipython-input-38-79a2279ac6e9>\u001b[0m in \u001b[0;36m<module>\u001b[1;34m\u001b[0m\n\u001b[1;32m----> 1\u001b[1;33m \u001b[1;32mif\u001b[0m \u001b[0mclusters\u001b[0m\u001b[1;33m[\u001b[0m\u001b[1;36m3\u001b[0m\u001b[1;33m,\u001b[0m\u001b[1;36m1\u001b[0m\u001b[1;33m]\u001b[0m\u001b[1;33m==\u001b[0m\u001b[1;32mNone\u001b[0m\u001b[1;33m:\u001b[0m\u001b[1;33m\u001b[0m\u001b[1;33m\u001b[0m\u001b[0m\n\u001b[0m\u001b[0;32m      2\u001b[0m     \u001b[0mprint\u001b[0m\u001b[1;33m(\u001b[0m\u001b[1;34m\"no\"\u001b[0m\u001b[1;33m)\u001b[0m\u001b[1;33m\u001b[0m\u001b[1;33m\u001b[0m\u001b[0m\n",
      "\u001b[1;31mTypeError\u001b[0m: list indices must be integers or slices, not tuple"
     ]
    }
   ],
   "source": [
    "if clusters[3]==None:\n",
    "    print(\"no\")"
   ]
  },
  {
   "cell_type": "code",
   "execution_count": 12,
   "id": "uniform-gibson",
   "metadata": {},
   "outputs": [
    {
     "name": "stdout",
     "output_type": "stream",
     "text": [
      "[[-1.34164079 -0.4472136   0.4472136   1.34164079]\n",
      " [-1.34164079 -0.4472136   0.4472136   1.34164079]\n",
      " [-1.34164079 -0.4472136   0.4472136   1.34164079]\n",
      " [-1.41421356  0.          0.          1.41421356]\n",
      " [-1.34164079 -0.4472136   0.4472136   1.34164079]\n",
      " [-1.34164079 -0.4472136   0.4472136   1.34164079]\n",
      " [-1.         -1.          1.          1.        ]]\n"
     ]
    }
   ],
   "source": [
    "print(zscore(time_series, axis=1))"
   ]
  },
  {
   "cell_type": "code",
   "execution_count": 19,
   "id": "union-broadway",
   "metadata": {},
   "outputs": [
    {
     "name": "stdout",
     "output_type": "stream",
     "text": [
      "[(array([0.]), [0, 1, 2, 3, 4, 5, 6]), (array([0.]), [])]\n"
     ]
    },
    {
     "name": "stderr",
     "output_type": "stream",
     "text": [
      "F:\\program\\anaconda\\envs\\tensorflow\\lib\\site-packages\\kshape\\core.py:14: RuntimeWarning: invalid value encountered in true_divide\n",
      "  res = ((a - np.expand_dims(mns, axis=axis)) /\n"
     ]
    }
   ],
   "source": [
    "time_series = [[1],[2],[1],[3],[10],[11],[12]]\n",
    "cluster_num = 2\n",
    "clusters = kshape(zscore(time_series, axis=1), cluster_num)\n",
    "print(clusters)"
   ]
  },
  {
   "cell_type": "code",
   "execution_count": null,
   "id": "greenhouse-screen",
   "metadata": {},
   "outputs": [],
   "source": []
  }
 ],
 "metadata": {
  "kernelspec": {
   "display_name": "Python 3",
   "language": "python",
   "name": "python3"
  },
  "language_info": {
   "codemirror_mode": {
    "name": "ipython",
    "version": 3
   },
   "file_extension": ".py",
   "mimetype": "text/x-python",
   "name": "python",
   "nbconvert_exporter": "python",
   "pygments_lexer": "ipython3",
   "version": "3.8.5"
  }
 },
 "nbformat": 4,
 "nbformat_minor": 5
}
